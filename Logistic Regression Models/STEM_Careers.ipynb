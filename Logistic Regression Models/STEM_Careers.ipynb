{
 "cells": [
  {
   "cell_type": "markdown",
   "metadata": {},
   "source": [
    "# STEM Careers"
   ]
  },
  {
   "cell_type": "markdown",
   "metadata": {},
   "source": [
    "## Data Exploration"
   ]
  },
  {
   "cell_type": "code",
   "execution_count": 39,
   "metadata": {},
   "outputs": [],
   "source": [
    "import warnings\n",
    "warnings.filterwarnings('ignore')\n",
    "\n",
    "import pandas as pd\n",
    "import numpy as np"
   ]
  },
  {
   "cell_type": "code",
   "execution_count": 139,
   "metadata": {},
   "outputs": [
    {
     "name": "stdout",
     "output_type": "stream",
     "text": [
      "<class 'pandas.core.frame.DataFrame'>\n",
      "RangeIndex: 47955 entries, 0 to 47954\n",
      "Data columns (total 7 columns):\n",
      " #   Column                 Non-Null Count  Dtype  \n",
      "---  ------                 --------------  -----  \n",
      " 0   repeater               47955 non-null  int64  \n",
      " 1   chain                  47955 non-null  object \n",
      " 2   market                 47955 non-null  int64  \n",
      " 3   offervalue             47955 non-null  float64\n",
      " 4   avg_category_quantity  47955 non-null  float64\n",
      " 5   avg_category_amount    47955 non-null  float64\n",
      " 6   exact_item_bought      47955 non-null  int64  \n",
      "dtypes: float64(3), int64(3), object(1)\n",
      "memory usage: 2.6+ MB\n"
     ]
    }
   ],
   "source": [
    "# load the dataset\n",
    "coupon = pd.read_csv(\"repeater_prediction.csv\")\n",
    "# breifly explore the data types\n",
    "coupon.info()"
   ]
  },
  {
   "cell_type": "code",
   "execution_count": 140,
   "metadata": {},
   "outputs": [
    {
     "data": {
      "text/plain": [
       "1    24218\n",
       "0    23737\n",
       "Name: exact_item_bought, dtype: int64"
      ]
     },
     "execution_count": 140,
     "metadata": {},
     "output_type": "execute_result"
    }
   ],
   "source": [
    "# exact_item_bought is a categorical variable\n",
    "coupon.exact_item_bought.value_counts()"
   ]
  },
  {
   "cell_type": "code",
   "execution_count": 136,
   "metadata": {
    "scrolled": true
   },
   "outputs": [
    {
     "data": {
      "text/plain": [
       "10    12662\n",
       "21     3006\n",
       "27     2589\n",
       "37     2340\n",
       "9      2288\n",
       "15     2272\n",
       "12     2239\n",
       "20     2218\n",
       "96     2005\n",
       "8      1807\n",
       "14     1636\n",
       "1      1500\n",
       "4      1443\n",
       "16     1364\n",
       "34     1176\n",
       "33      995\n",
       "35      786\n",
       "2       606\n",
       "39      586\n",
       "7       581\n",
       "18      564\n",
       "11      526\n",
       "22      431\n",
       "28      426\n",
       "17      420\n",
       "24      405\n",
       "26      307\n",
       "43      197\n",
       "45      190\n",
       "6       151\n",
       "23      144\n",
       "93       59\n",
       "47       21\n",
       "5        15\n",
       "Name: market, dtype: int64"
      ]
     },
     "execution_count": 136,
     "metadata": {},
     "output_type": "execute_result"
    }
   ],
   "source": [
    "# market is a categorical variable (region id = nominal): convert the data type to object\n",
    "coupon.market.value_counts()"
   ]
  },
  {
   "cell_type": "code",
   "execution_count": 137,
   "metadata": {},
   "outputs": [
    {
     "data": {
      "text/plain": [
       "0    34777\n",
       "1    13178\n",
       "Name: repeater, dtype: int64"
      ]
     },
     "execution_count": 137,
     "metadata": {},
     "output_type": "execute_result"
    }
   ],
   "source": [
    "# dependent variable \"repeater\" is a categorical variable\n",
    "coupon.repeater.value_counts()"
   ]
  },
  {
   "cell_type": "code",
   "execution_count": 141,
   "metadata": {},
   "outputs": [
    {
     "data": {
      "text/plain": [
       "dtype('O')"
      ]
     },
     "execution_count": 141,
     "metadata": {},
     "output_type": "execute_result"
    }
   ],
   "source": [
    "# market variable represents region id that should be converted to a dummy variable\n",
    "# So, change the data type to object\n",
    "coupon[\"market\"] = coupon[\"market\"].astype(object)\n",
    "coupon[\"market\"].dtype"
   ]
  },
  {
   "cell_type": "code",
   "execution_count": 142,
   "metadata": {},
   "outputs": [
    {
     "data": {
      "text/plain": [
       "dtype('O')"
      ]
     },
     "execution_count": 142,
     "metadata": {},
     "output_type": "execute_result"
    }
   ],
   "source": [
    "# change the data type to object to convert it to a dummy variable\n",
    "coupon[\"exact_item_bought\"] = coupon[\"exact_item_bought\"].astype(object)\n",
    "coupon[\"exact_item_bought\"].dtype"
   ]
  },
  {
   "cell_type": "code",
   "execution_count": 45,
   "metadata": {},
   "outputs": [
    {
     "name": "stdout",
     "output_type": "stream",
     "text": [
      "unknown\n",
      "unknown\n",
      "unknown\n",
      "unknown\n",
      "unknown\n",
      "unknown\n",
      "unknown\n",
      "unknown\n",
      "unknown\n",
      "unknown\n",
      "unknown\n",
      "unknown\n",
      "unknown\n",
      "unknown\n",
      "unknown\n",
      "unknown\n",
      "unknown\n",
      "unknown\n",
      "unknown\n",
      "unknown\n",
      "unknown\n",
      "unknown\n",
      "unknown\n",
      "unknown\n",
      "unknown\n",
      "unknown\n"
     ]
    }
   ],
   "source": [
    "# check if there are data values unable to be converted to integer\n",
    "for i in range(len(coupon[\"chain\"])):\n",
    "    try:\n",
    "        coupon[\"chain\"][i] = int(coupon[\"chain\"][i])\n",
    "    except:\n",
    "        print(coupon[\"chain\"][i])"
   ]
  },
  {
   "cell_type": "markdown",
   "metadata": {},
   "source": [
    "* Delete the rows including \"unkonwn\" value"
   ]
  },
  {
   "cell_type": "code",
   "execution_count": 143,
   "metadata": {},
   "outputs": [],
   "source": [
    "# detect the indices corresponding to the data \"unknown\"\n",
    "chain_index = coupon[coupon[\"chain\"] == \"unknown\"].index"
   ]
  },
  {
   "cell_type": "code",
   "execution_count": 144,
   "metadata": {},
   "outputs": [],
   "source": [
    "# drop the rows \n",
    "coupon = coupon.drop(chain_index)"
   ]
  },
  {
   "cell_type": "code",
   "execution_count": 145,
   "metadata": {},
   "outputs": [
    {
     "data": {
      "text/plain": [
       "dtype('int64')"
      ]
     },
     "execution_count": 145,
     "metadata": {},
     "output_type": "execute_result"
    }
   ],
   "source": [
    "# convert the data type of the column \"chain\" to integer\n",
    "coupon[\"chain\"] = coupon[\"chain\"].astype(int)\n",
    "coupon[\"chain\"].dtype"
   ]
  },
  {
   "cell_type": "code",
   "execution_count": 146,
   "metadata": {},
   "outputs": [
    {
     "name": "stdout",
     "output_type": "stream",
     "text": [
      "<class 'pandas.core.frame.DataFrame'>\n",
      "Int64Index: 47929 entries, 0 to 47954\n",
      "Data columns (total 7 columns):\n",
      " #   Column                 Non-Null Count  Dtype  \n",
      "---  ------                 --------------  -----  \n",
      " 0   repeater               47929 non-null  int64  \n",
      " 1   chain                  47929 non-null  int64  \n",
      " 2   market                 47929 non-null  object \n",
      " 3   offervalue             47929 non-null  float64\n",
      " 4   avg_category_quantity  47929 non-null  float64\n",
      " 5   avg_category_amount    47929 non-null  float64\n",
      " 6   exact_item_bought      47929 non-null  object \n",
      "dtypes: float64(3), int64(2), object(2)\n",
      "memory usage: 2.9+ MB\n"
     ]
    }
   ],
   "source": [
    "coupon.info()"
   ]
  },
  {
   "cell_type": "markdown",
   "metadata": {},
   "source": [
    "* extract the independent variables from the data frame"
   ]
  },
  {
   "cell_type": "code",
   "execution_count": 147,
   "metadata": {},
   "outputs": [
    {
     "data": {
      "text/plain": [
       "['chain',\n",
       " 'market',\n",
       " 'offervalue',\n",
       " 'avg_category_quantity',\n",
       " 'avg_category_amount',\n",
       " 'exact_item_bought']"
      ]
     },
     "execution_count": 147,
     "metadata": {},
     "output_type": "execute_result"
    }
   ],
   "source": [
    "X_features = list(coupon.columns)\n",
    "X_features.remove(X_features[0])\n",
    "X_features"
   ]
  },
  {
   "cell_type": "markdown",
   "metadata": {},
   "source": [
    "* encode the independent variables by transforming the categorical variables to dummy variables"
   ]
  },
  {
   "cell_type": "code",
   "execution_count": 148,
   "metadata": {},
   "outputs": [
    {
     "data": {
      "text/html": [
       "<div>\n",
       "<style scoped>\n",
       "    .dataframe tbody tr th:only-of-type {\n",
       "        vertical-align: middle;\n",
       "    }\n",
       "\n",
       "    .dataframe tbody tr th {\n",
       "        vertical-align: top;\n",
       "    }\n",
       "\n",
       "    .dataframe thead th {\n",
       "        text-align: right;\n",
       "    }\n",
       "</style>\n",
       "<table border=\"1\" class=\"dataframe\">\n",
       "  <thead>\n",
       "    <tr style=\"text-align: right;\">\n",
       "      <th></th>\n",
       "      <th>chain</th>\n",
       "      <th>offervalue</th>\n",
       "      <th>avg_category_quantity</th>\n",
       "      <th>avg_category_amount</th>\n",
       "      <th>market_2</th>\n",
       "      <th>market_4</th>\n",
       "      <th>market_5</th>\n",
       "      <th>market_6</th>\n",
       "      <th>market_7</th>\n",
       "      <th>market_8</th>\n",
       "      <th>...</th>\n",
       "      <th>market_34</th>\n",
       "      <th>market_35</th>\n",
       "      <th>market_37</th>\n",
       "      <th>market_39</th>\n",
       "      <th>market_43</th>\n",
       "      <th>market_45</th>\n",
       "      <th>market_47</th>\n",
       "      <th>market_93</th>\n",
       "      <th>market_96</th>\n",
       "      <th>exact_item_bought_1</th>\n",
       "    </tr>\n",
       "  </thead>\n",
       "  <tbody>\n",
       "    <tr>\n",
       "      <th>0</th>\n",
       "      <td>15</td>\n",
       "      <td>0.75</td>\n",
       "      <td>0.000000</td>\n",
       "      <td>0.000000</td>\n",
       "      <td>0</td>\n",
       "      <td>0</td>\n",
       "      <td>0</td>\n",
       "      <td>0</td>\n",
       "      <td>0</td>\n",
       "      <td>0</td>\n",
       "      <td>...</td>\n",
       "      <td>0</td>\n",
       "      <td>0</td>\n",
       "      <td>0</td>\n",
       "      <td>0</td>\n",
       "      <td>0</td>\n",
       "      <td>0</td>\n",
       "      <td>0</td>\n",
       "      <td>0</td>\n",
       "      <td>0</td>\n",
       "      <td>0</td>\n",
       "    </tr>\n",
       "    <tr>\n",
       "      <th>1</th>\n",
       "      <td>14</td>\n",
       "      <td>1.25</td>\n",
       "      <td>1.333333</td>\n",
       "      <td>4.653333</td>\n",
       "      <td>0</td>\n",
       "      <td>0</td>\n",
       "      <td>0</td>\n",
       "      <td>0</td>\n",
       "      <td>0</td>\n",
       "      <td>1</td>\n",
       "      <td>...</td>\n",
       "      <td>0</td>\n",
       "      <td>0</td>\n",
       "      <td>0</td>\n",
       "      <td>0</td>\n",
       "      <td>0</td>\n",
       "      <td>0</td>\n",
       "      <td>0</td>\n",
       "      <td>0</td>\n",
       "      <td>0</td>\n",
       "      <td>1</td>\n",
       "    </tr>\n",
       "    <tr>\n",
       "      <th>2</th>\n",
       "      <td>4</td>\n",
       "      <td>0.75</td>\n",
       "      <td>0.000000</td>\n",
       "      <td>0.000000</td>\n",
       "      <td>0</td>\n",
       "      <td>0</td>\n",
       "      <td>0</td>\n",
       "      <td>0</td>\n",
       "      <td>0</td>\n",
       "      <td>0</td>\n",
       "      <td>...</td>\n",
       "      <td>0</td>\n",
       "      <td>0</td>\n",
       "      <td>0</td>\n",
       "      <td>0</td>\n",
       "      <td>0</td>\n",
       "      <td>0</td>\n",
       "      <td>0</td>\n",
       "      <td>0</td>\n",
       "      <td>0</td>\n",
       "      <td>0</td>\n",
       "    </tr>\n",
       "    <tr>\n",
       "      <th>3</th>\n",
       "      <td>15</td>\n",
       "      <td>0.75</td>\n",
       "      <td>0.000000</td>\n",
       "      <td>0.000000</td>\n",
       "      <td>0</td>\n",
       "      <td>0</td>\n",
       "      <td>0</td>\n",
       "      <td>0</td>\n",
       "      <td>0</td>\n",
       "      <td>0</td>\n",
       "      <td>...</td>\n",
       "      <td>0</td>\n",
       "      <td>0</td>\n",
       "      <td>0</td>\n",
       "      <td>0</td>\n",
       "      <td>0</td>\n",
       "      <td>0</td>\n",
       "      <td>0</td>\n",
       "      <td>0</td>\n",
       "      <td>0</td>\n",
       "      <td>0</td>\n",
       "    </tr>\n",
       "    <tr>\n",
       "      <th>4</th>\n",
       "      <td>17</td>\n",
       "      <td>0.75</td>\n",
       "      <td>0.000000</td>\n",
       "      <td>0.000000</td>\n",
       "      <td>0</td>\n",
       "      <td>1</td>\n",
       "      <td>0</td>\n",
       "      <td>0</td>\n",
       "      <td>0</td>\n",
       "      <td>0</td>\n",
       "      <td>...</td>\n",
       "      <td>0</td>\n",
       "      <td>0</td>\n",
       "      <td>0</td>\n",
       "      <td>0</td>\n",
       "      <td>0</td>\n",
       "      <td>0</td>\n",
       "      <td>0</td>\n",
       "      <td>0</td>\n",
       "      <td>0</td>\n",
       "      <td>0</td>\n",
       "    </tr>\n",
       "  </tbody>\n",
       "</table>\n",
       "<p>5 rows × 38 columns</p>\n",
       "</div>"
      ],
      "text/plain": [
       "   chain  offervalue  avg_category_quantity  avg_category_amount  market_2  \\\n",
       "0     15        0.75               0.000000             0.000000         0   \n",
       "1     14        1.25               1.333333             4.653333         0   \n",
       "2      4        0.75               0.000000             0.000000         0   \n",
       "3     15        0.75               0.000000             0.000000         0   \n",
       "4     17        0.75               0.000000             0.000000         0   \n",
       "\n",
       "   market_4  market_5  market_6  market_7  market_8  ...  market_34  \\\n",
       "0         0         0         0         0         0  ...          0   \n",
       "1         0         0         0         0         1  ...          0   \n",
       "2         0         0         0         0         0  ...          0   \n",
       "3         0         0         0         0         0  ...          0   \n",
       "4         1         0         0         0         0  ...          0   \n",
       "\n",
       "   market_35  market_37  market_39  market_43  market_45  market_47  \\\n",
       "0          0          0          0          0          0          0   \n",
       "1          0          0          0          0          0          0   \n",
       "2          0          0          0          0          0          0   \n",
       "3          0          0          0          0          0          0   \n",
       "4          0          0          0          0          0          0   \n",
       "\n",
       "   market_93  market_96  exact_item_bought_1  \n",
       "0          0          0                    0  \n",
       "1          0          0                    1  \n",
       "2          0          0                    0  \n",
       "3          0          0                    0  \n",
       "4          0          0                    0  \n",
       "\n",
       "[5 rows x 38 columns]"
      ]
     },
     "execution_count": 148,
     "metadata": {},
     "output_type": "execute_result"
    }
   ],
   "source": [
    "encoded_coupon = pd.get_dummies(coupon[X_features], drop_first = True)\n",
    "encoded_coupon.head()"
   ]
  },
  {
   "cell_type": "markdown",
   "metadata": {},
   "source": [
    "* Split the data frame into train & test sets"
   ]
  },
  {
   "cell_type": "code",
   "execution_count": 52,
   "metadata": {},
   "outputs": [],
   "source": [
    "# import needed packages\n",
    "import statsmodels.api as sm\n",
    "from sklearn.linear_model import LinearRegression\n",
    "from sklearn.model_selection import train_test_split"
   ]
  },
  {
   "cell_type": "code",
   "execution_count": 53,
   "metadata": {},
   "outputs": [],
   "source": [
    "# define the target variable and independent variables with a constant column \n",
    "y = coupon[\"repeater\"]\n",
    "X0 = sm.add_constant(encoded_coupon)"
   ]
  },
  {
   "cell_type": "code",
   "execution_count": 54,
   "metadata": {},
   "outputs": [],
   "source": [
    "# split the dataset into a ratio 7:3\n",
    "x_train, x_test, y_train, y_test = train_test_split(X0, y, train_size = 0.7, random_state = 123)"
   ]
  },
  {
   "cell_type": "markdown",
   "metadata": {},
   "source": [
    "## Build a logistic regression model with the train sets"
   ]
  },
  {
   "cell_type": "markdown",
   "metadata": {},
   "source": [
    "* fit a logistic model with the train datasets"
   ]
  },
  {
   "cell_type": "code",
   "execution_count": 55,
   "metadata": {},
   "outputs": [
    {
     "name": "stdout",
     "output_type": "stream",
     "text": [
      "Optimization terminated successfully.\n",
      "         Current function value: 0.573326\n",
      "         Iterations 6\n"
     ]
    }
   ],
   "source": [
    "model = sm.Logit(y_train, x_train)\n",
    "coupon_logit = model.fit()"
   ]
  },
  {
   "cell_type": "code",
   "execution_count": 56,
   "metadata": {
    "scrolled": true
   },
   "outputs": [
    {
     "data": {
      "text/html": [
       "<table class=\"simpletable\">\n",
       "<tr>\n",
       "        <td>Model:</td>              <td>Logit</td>      <td>Pseudo R-squared:</td>    <td>0.026</td>   \n",
       "</tr>\n",
       "<tr>\n",
       "  <td>Dependent Variable:</td>     <td>repeater</td>           <td>AIC:</td>        <td>38548.1846</td> \n",
       "</tr>\n",
       "<tr>\n",
       "         <td>Date:</td>        <td>2020-12-02 15:09</td>       <td>BIC:</td>        <td>38876.5955</td> \n",
       "</tr>\n",
       "<tr>\n",
       "   <td>No. Observations:</td>        <td>33550</td>       <td>Log-Likelihood:</td>    <td>-19235.</td>  \n",
       "</tr>\n",
       "<tr>\n",
       "       <td>Df Model:</td>             <td>38</td>            <td>LL-Null:</td>        <td>-19748.</td>  \n",
       "</tr>\n",
       "<tr>\n",
       "     <td>Df Residuals:</td>          <td>33511</td>        <td>LLR p-value:</td>    <td>1.2768e-190</td>\n",
       "</tr>\n",
       "<tr>\n",
       "      <td>Converged:</td>           <td>1.0000</td>           <td>Scale:</td>         <td>1.0000</td>   \n",
       "</tr>\n",
       "<tr>\n",
       "    <td>No. Iterations:</td>        <td>6.0000</td>              <td></td>               <td></td>      \n",
       "</tr>\n",
       "</table>\n",
       "<table class=\"simpletable\">\n",
       "<tr>\n",
       "            <td></td>             <th>Coef.</th>  <th>Std.Err.</th>     <th>z</th>     <th>P>|z|</th> <th>[0.025</th>  <th>0.975]</th> \n",
       "</tr>\n",
       "<tr>\n",
       "  <th>const</th>                 <td>-1.5087</td>  <td>0.0865</td>  <td>-17.4396</td> <td>0.0000</td> <td>-1.6783</td> <td>-1.3392</td>\n",
       "</tr>\n",
       "<tr>\n",
       "  <th>chain</th>                 <td>0.0002</td>   <td>0.0002</td>   <td>1.1416</td>  <td>0.2536</td> <td>-0.0001</td> <td>0.0005</td> \n",
       "</tr>\n",
       "<tr>\n",
       "  <th>offervalue</th>            <td>-0.1457</td>  <td>0.0259</td>   <td>-5.6176</td> <td>0.0000</td> <td>-0.1965</td> <td>-0.0948</td>\n",
       "</tr>\n",
       "<tr>\n",
       "  <th>avg_category_quantity</th> <td>0.1097</td>   <td>0.0325</td>   <td>3.3776</td>  <td>0.0007</td> <td>0.0460</td>  <td>0.1734</td> \n",
       "</tr>\n",
       "<tr>\n",
       "  <th>avg_category_amount</th>   <td>0.0949</td>   <td>0.0092</td>   <td>10.3603</td> <td>0.0000</td> <td>0.0769</td>  <td>0.1128</td> \n",
       "</tr>\n",
       "<tr>\n",
       "  <th>market_2</th>              <td>-0.3804</td>  <td>0.1662</td>   <td>-2.2880</td> <td>0.0221</td> <td>-0.7062</td> <td>-0.0545</td>\n",
       "</tr>\n",
       "<tr>\n",
       "  <th>market_4</th>              <td>0.4266</td>   <td>0.1081</td>   <td>3.9458</td>  <td>0.0001</td> <td>0.2147</td>  <td>0.6384</td> \n",
       "</tr>\n",
       "<tr>\n",
       "  <th>market_5</th>              <td>-0.6365</td>  <td>1.0594</td>   <td>-0.6008</td> <td>0.5480</td> <td>-2.7130</td> <td>1.4399</td> \n",
       "</tr>\n",
       "<tr>\n",
       "  <th>market_6</th>              <td>-0.3140</td>  <td>0.3146</td>   <td>-0.9978</td> <td>0.3184</td> <td>-0.9307</td> <td>0.3027</td> \n",
       "</tr>\n",
       "<tr>\n",
       "  <th>market_7</th>              <td>0.4453</td>   <td>0.1406</td>   <td>3.1676</td>  <td>0.0015</td> <td>0.1698</td>  <td>0.7208</td> \n",
       "</tr>\n",
       "<tr>\n",
       "  <th>market_8</th>              <td>0.4615</td>   <td>0.1056</td>   <td>4.3713</td>  <td>0.0000</td> <td>0.2546</td>  <td>0.6684</td> \n",
       "</tr>\n",
       "<tr>\n",
       "  <th>market_9</th>              <td>0.5837</td>   <td>0.1019</td>   <td>5.7281</td>  <td>0.0000</td> <td>0.3840</td>  <td>0.7834</td> \n",
       "</tr>\n",
       "<tr>\n",
       "  <th>market_10</th>             <td>0.5286</td>   <td>0.0847</td>   <td>6.2371</td>  <td>0.0000</td> <td>0.3625</td>  <td>0.6947</td> \n",
       "</tr>\n",
       "<tr>\n",
       "  <th>market_11</th>             <td>-0.0107</td>  <td>0.1578</td>   <td>-0.0679</td> <td>0.9459</td> <td>-0.3200</td> <td>0.2986</td> \n",
       "</tr>\n",
       "<tr>\n",
       "  <th>market_12</th>             <td>0.3950</td>   <td>0.1039</td>   <td>3.8022</td>  <td>0.0001</td> <td>0.1914</td>  <td>0.5986</td> \n",
       "</tr>\n",
       "<tr>\n",
       "  <th>market_14</th>             <td>1.2786</td>   <td>0.1033</td>   <td>12.3824</td> <td>0.0000</td> <td>1.0762</td>  <td>1.4810</td> \n",
       "</tr>\n",
       "<tr>\n",
       "  <th>market_15</th>             <td>0.0541</td>   <td>0.1041</td>   <td>0.5199</td>  <td>0.6031</td> <td>-0.1499</td> <td>0.2581</td> \n",
       "</tr>\n",
       "<tr>\n",
       "  <th>market_16</th>             <td>0.3889</td>   <td>0.1115</td>   <td>3.4883</td>  <td>0.0005</td> <td>0.1704</td>  <td>0.6074</td> \n",
       "</tr>\n",
       "<tr>\n",
       "  <th>market_17</th>             <td>0.3548</td>   <td>0.1609</td>   <td>2.2047</td>  <td>0.0275</td> <td>0.0394</td>  <td>0.6701</td> \n",
       "</tr>\n",
       "<tr>\n",
       "  <th>market_18</th>             <td>0.3086</td>   <td>0.1468</td>   <td>2.1027</td>  <td>0.0355</td> <td>0.0209</td>  <td>0.5963</td> \n",
       "</tr>\n",
       "<tr>\n",
       "  <th>market_20</th>             <td>0.6231</td>   <td>0.0993</td>   <td>6.2726</td>  <td>0.0000</td> <td>0.4284</td>  <td>0.8178</td> \n",
       "</tr>\n",
       "<tr>\n",
       "  <th>market_21</th>             <td>0.9182</td>   <td>0.0955</td>   <td>9.6130</td>  <td>0.0000</td> <td>0.7310</td>  <td>1.1054</td> \n",
       "</tr>\n",
       "<tr>\n",
       "  <th>market_22</th>             <td>0.2540</td>   <td>0.1597</td>   <td>1.5904</td>  <td>0.1118</td> <td>-0.0590</td> <td>0.5670</td> \n",
       "</tr>\n",
       "<tr>\n",
       "  <th>market_23</th>             <td>0.5472</td>   <td>0.2516</td>   <td>2.1743</td>  <td>0.0297</td> <td>0.0539</td>  <td>1.0404</td> \n",
       "</tr>\n",
       "<tr>\n",
       "  <th>market_24</th>             <td>0.4593</td>   <td>0.1597</td>   <td>2.8763</td>  <td>0.0040</td> <td>0.1463</td>  <td>0.7723</td> \n",
       "</tr>\n",
       "<tr>\n",
       "  <th>market_26</th>             <td>0.2316</td>   <td>0.1900</td>   <td>1.2184</td>  <td>0.2231</td> <td>-0.1409</td> <td>0.6040</td> \n",
       "</tr>\n",
       "<tr>\n",
       "  <th>market_27</th>             <td>0.5799</td>   <td>0.0972</td>   <td>5.9654</td>  <td>0.0000</td> <td>0.3894</td>  <td>0.7704</td> \n",
       "</tr>\n",
       "<tr>\n",
       "  <th>market_28</th>             <td>0.4211</td>   <td>0.1599</td>   <td>2.6343</td>  <td>0.0084</td> <td>0.1078</td>  <td>0.7344</td> \n",
       "</tr>\n",
       "<tr>\n",
       "  <th>market_33</th>             <td>0.4595</td>   <td>0.1265</td>   <td>3.6328</td>  <td>0.0003</td> <td>0.2116</td>  <td>0.7074</td> \n",
       "</tr>\n",
       "<tr>\n",
       "  <th>market_34</th>             <td>0.5949</td>   <td>0.1136</td>   <td>5.2362</td>  <td>0.0000</td> <td>0.3722</td>  <td>0.8176</td> \n",
       "</tr>\n",
       "<tr>\n",
       "  <th>market_35</th>             <td>0.5396</td>   <td>0.1317</td>   <td>4.0961</td>  <td>0.0000</td> <td>0.2814</td>  <td>0.7978</td> \n",
       "</tr>\n",
       "<tr>\n",
       "  <th>market_37</th>             <td>0.5315</td>   <td>0.1094</td>   <td>4.8585</td>  <td>0.0000</td> <td>0.3171</td>  <td>0.7460</td> \n",
       "</tr>\n",
       "<tr>\n",
       "  <th>market_39</th>             <td>0.2401</td>   <td>0.1473</td>   <td>1.6295</td>  <td>0.1032</td> <td>-0.0487</td> <td>0.5289</td> \n",
       "</tr>\n",
       "<tr>\n",
       "  <th>market_43</th>             <td>0.3687</td>   <td>0.2217</td>   <td>1.6631</td>  <td>0.0963</td> <td>-0.0658</td> <td>0.8031</td> \n",
       "</tr>\n",
       "<tr>\n",
       "  <th>market_45</th>             <td>0.4307</td>   <td>0.2239</td>   <td>1.9234</td>  <td>0.0544</td> <td>-0.0082</td> <td>0.8696</td> \n",
       "</tr>\n",
       "<tr>\n",
       "  <th>market_47</th>             <td>-0.9704</td>  <td>1.0510</td>   <td>-0.9233</td> <td>0.3559</td> <td>-3.0303</td> <td>1.0896</td> \n",
       "</tr>\n",
       "<tr>\n",
       "  <th>market_93</th>             <td>-0.3909</td>  <td>0.4602</td>   <td>-0.8493</td> <td>0.3957</td> <td>-1.2929</td> <td>0.5111</td> \n",
       "</tr>\n",
       "<tr>\n",
       "  <th>market_96</th>             <td>0.1454</td>   <td>0.1357</td>   <td>1.0714</td>  <td>0.2840</td> <td>-0.1206</td> <td>0.4115</td> \n",
       "</tr>\n",
       "<tr>\n",
       "  <th>exact_item_bought_1</th>   <td>-0.2042</td>  <td>0.0463</td>   <td>-4.4079</td> <td>0.0000</td> <td>-0.2950</td> <td>-0.1134</td>\n",
       "</tr>\n",
       "</table>"
      ],
      "text/plain": [
       "<class 'statsmodels.iolib.summary2.Summary'>\n",
       "\"\"\"\n",
       "                            Results: Logit\n",
       "======================================================================\n",
       "Model:                Logit             Pseudo R-squared:  0.026      \n",
       "Dependent Variable:   repeater          AIC:               38548.1846 \n",
       "Date:                 2020-12-02 15:09  BIC:               38876.5955 \n",
       "No. Observations:     33550             Log-Likelihood:    -19235.    \n",
       "Df Model:             38                LL-Null:           -19748.    \n",
       "Df Residuals:         33511             LLR p-value:       1.2768e-190\n",
       "Converged:            1.0000            Scale:             1.0000     \n",
       "No. Iterations:       6.0000                                          \n",
       "----------------------------------------------------------------------\n",
       "                       Coef.  Std.Err.    z     P>|z|   [0.025  0.975]\n",
       "----------------------------------------------------------------------\n",
       "const                 -1.5087   0.0865 -17.4396 0.0000 -1.6783 -1.3392\n",
       "chain                  0.0002   0.0002   1.1416 0.2536 -0.0001  0.0005\n",
       "offervalue            -0.1457   0.0259  -5.6176 0.0000 -0.1965 -0.0948\n",
       "avg_category_quantity  0.1097   0.0325   3.3776 0.0007  0.0460  0.1734\n",
       "avg_category_amount    0.0949   0.0092  10.3603 0.0000  0.0769  0.1128\n",
       "market_2              -0.3804   0.1662  -2.2880 0.0221 -0.7062 -0.0545\n",
       "market_4               0.4266   0.1081   3.9458 0.0001  0.2147  0.6384\n",
       "market_5              -0.6365   1.0594  -0.6008 0.5480 -2.7130  1.4399\n",
       "market_6              -0.3140   0.3146  -0.9978 0.3184 -0.9307  0.3027\n",
       "market_7               0.4453   0.1406   3.1676 0.0015  0.1698  0.7208\n",
       "market_8               0.4615   0.1056   4.3713 0.0000  0.2546  0.6684\n",
       "market_9               0.5837   0.1019   5.7281 0.0000  0.3840  0.7834\n",
       "market_10              0.5286   0.0847   6.2371 0.0000  0.3625  0.6947\n",
       "market_11             -0.0107   0.1578  -0.0679 0.9459 -0.3200  0.2986\n",
       "market_12              0.3950   0.1039   3.8022 0.0001  0.1914  0.5986\n",
       "market_14              1.2786   0.1033  12.3824 0.0000  1.0762  1.4810\n",
       "market_15              0.0541   0.1041   0.5199 0.6031 -0.1499  0.2581\n",
       "market_16              0.3889   0.1115   3.4883 0.0005  0.1704  0.6074\n",
       "market_17              0.3548   0.1609   2.2047 0.0275  0.0394  0.6701\n",
       "market_18              0.3086   0.1468   2.1027 0.0355  0.0209  0.5963\n",
       "market_20              0.6231   0.0993   6.2726 0.0000  0.4284  0.8178\n",
       "market_21              0.9182   0.0955   9.6130 0.0000  0.7310  1.1054\n",
       "market_22              0.2540   0.1597   1.5904 0.1118 -0.0590  0.5670\n",
       "market_23              0.5472   0.2516   2.1743 0.0297  0.0539  1.0404\n",
       "market_24              0.4593   0.1597   2.8763 0.0040  0.1463  0.7723\n",
       "market_26              0.2316   0.1900   1.2184 0.2231 -0.1409  0.6040\n",
       "market_27              0.5799   0.0972   5.9654 0.0000  0.3894  0.7704\n",
       "market_28              0.4211   0.1599   2.6343 0.0084  0.1078  0.7344\n",
       "market_33              0.4595   0.1265   3.6328 0.0003  0.2116  0.7074\n",
       "market_34              0.5949   0.1136   5.2362 0.0000  0.3722  0.8176\n",
       "market_35              0.5396   0.1317   4.0961 0.0000  0.2814  0.7978\n",
       "market_37              0.5315   0.1094   4.8585 0.0000  0.3171  0.7460\n",
       "market_39              0.2401   0.1473   1.6295 0.1032 -0.0487  0.5289\n",
       "market_43              0.3687   0.2217   1.6631 0.0963 -0.0658  0.8031\n",
       "market_45              0.4307   0.2239   1.9234 0.0544 -0.0082  0.8696\n",
       "market_47             -0.9704   1.0510  -0.9233 0.3559 -3.0303  1.0896\n",
       "market_93             -0.3909   0.4602  -0.8493 0.3957 -1.2929  0.5111\n",
       "market_96              0.1454   0.1357   1.0714 0.2840 -0.1206  0.4115\n",
       "exact_item_bought_1   -0.2042   0.0463  -4.4079 0.0000 -0.2950 -0.1134\n",
       "======================================================================\n",
       "\n",
       "\"\"\""
      ]
     },
     "execution_count": 56,
     "metadata": {},
     "output_type": "execute_result"
    }
   ],
   "source": [
    "# show the summary\n",
    "coupon_logit.summary2()"
   ]
  },
  {
   "cell_type": "markdown",
   "metadata": {},
   "source": [
    "#### (1) Some independent variables with p-values bigger than 0.05 are observed. \n",
    "#### (2) BIC = 38876.5955"
   ]
  },
  {
   "cell_type": "markdown",
   "metadata": {},
   "source": [
    "* Select the independent variables with the p-values smaller than and equal to 0.05"
   ]
  },
  {
   "cell_type": "code",
   "execution_count": 67,
   "metadata": {},
   "outputs": [],
   "source": [
    "# Create a data frame with the p-values of the independent variables\n",
    "coupon_pvalues = pd.DataFrame(coupon_logit.pvalues)\n",
    "# Reset the index to make the array of the variable names a column \n",
    "coupon_pvalues = coupon_pvalues.reset_index()"
   ]
  },
  {
   "cell_type": "code",
   "execution_count": 68,
   "metadata": {
    "scrolled": false
   },
   "outputs": [
    {
     "data": {
      "text/html": [
       "<div>\n",
       "<style scoped>\n",
       "    .dataframe tbody tr th:only-of-type {\n",
       "        vertical-align: middle;\n",
       "    }\n",
       "\n",
       "    .dataframe tbody tr th {\n",
       "        vertical-align: top;\n",
       "    }\n",
       "\n",
       "    .dataframe thead th {\n",
       "        text-align: right;\n",
       "    }\n",
       "</style>\n",
       "<table border=\"1\" class=\"dataframe\">\n",
       "  <thead>\n",
       "    <tr style=\"text-align: right;\">\n",
       "      <th></th>\n",
       "      <th>vars</th>\n",
       "      <th>pvalues</th>\n",
       "    </tr>\n",
       "  </thead>\n",
       "  <tbody>\n",
       "    <tr>\n",
       "      <th>0</th>\n",
       "      <td>const</td>\n",
       "      <td>4.131728e-68</td>\n",
       "    </tr>\n",
       "    <tr>\n",
       "      <th>1</th>\n",
       "      <td>chain</td>\n",
       "      <td>2.536122e-01</td>\n",
       "    </tr>\n",
       "    <tr>\n",
       "      <th>2</th>\n",
       "      <td>offervalue</td>\n",
       "      <td>1.936187e-08</td>\n",
       "    </tr>\n",
       "  </tbody>\n",
       "</table>\n",
       "</div>"
      ],
      "text/plain": [
       "         vars       pvalues\n",
       "0       const  4.131728e-68\n",
       "1       chain  2.536122e-01\n",
       "2  offervalue  1.936187e-08"
      ]
     },
     "execution_count": 68,
     "metadata": {},
     "output_type": "execute_result"
    }
   ],
   "source": [
    "# Set the column names\n",
    "coupon_pvalues.columns = [\"vars\", \"pvalues\"]\n",
    "coupon_pvalues.head(3)"
   ]
  },
  {
   "cell_type": "code",
   "execution_count": 69,
   "metadata": {
    "scrolled": true
   },
   "outputs": [
    {
     "data": {
      "text/plain": [
       "['const',\n",
       " 'offervalue',\n",
       " 'avg_category_quantity',\n",
       " 'avg_category_amount',\n",
       " 'market_2',\n",
       " 'market_4',\n",
       " 'market_7',\n",
       " 'market_8',\n",
       " 'market_9',\n",
       " 'market_10',\n",
       " 'market_12',\n",
       " 'market_14',\n",
       " 'market_16',\n",
       " 'market_17',\n",
       " 'market_18',\n",
       " 'market_20',\n",
       " 'market_21',\n",
       " 'market_23',\n",
       " 'market_24',\n",
       " 'market_27',\n",
       " 'market_28',\n",
       " 'market_33',\n",
       " 'market_34',\n",
       " 'market_35',\n",
       " 'market_37',\n",
       " 'exact_item_bought_1']"
      ]
     },
     "execution_count": 69,
     "metadata": {},
     "output_type": "execute_result"
    }
   ],
   "source": [
    "# Select the variables whose p-value <= 0.05\n",
    "sig_var = list(coupon_pvalues.iloc[i, 0] for i in range(len(coupon_pvalues)) if coupon_pvalues.iloc[i, 1] <= 0.05)\n",
    "sig_var"
   ]
  },
  {
   "cell_type": "code",
   "execution_count": 70,
   "metadata": {
    "scrolled": false
   },
   "outputs": [
    {
     "name": "stdout",
     "output_type": "stream",
     "text": [
      "Optimization terminated successfully.\n",
      "         Current function value: 0.573630\n",
      "         Iterations 6\n"
     ]
    },
    {
     "data": {
      "text/html": [
       "<table class=\"simpletable\">\n",
       "<tr>\n",
       "        <td>Model:</td>              <td>Logit</td>      <td>Pseudo R-squared:</td>    <td>0.025</td>   \n",
       "</tr>\n",
       "<tr>\n",
       "  <td>Dependent Variable:</td>     <td>repeater</td>           <td>AIC:</td>        <td>38542.5878</td> \n",
       "</tr>\n",
       "<tr>\n",
       "         <td>Date:</td>        <td>2020-12-02 15:47</td>       <td>BIC:</td>        <td>38761.5284</td> \n",
       "</tr>\n",
       "<tr>\n",
       "   <td>No. Observations:</td>        <td>33550</td>       <td>Log-Likelihood:</td>    <td>-19245.</td>  \n",
       "</tr>\n",
       "<tr>\n",
       "       <td>Df Model:</td>             <td>25</td>            <td>LL-Null:</td>        <td>-19748.</td>  \n",
       "</tr>\n",
       "<tr>\n",
       "     <td>Df Residuals:</td>          <td>33524</td>        <td>LLR p-value:</td>    <td>3.0481e-196</td>\n",
       "</tr>\n",
       "<tr>\n",
       "      <td>Converged:</td>           <td>1.0000</td>           <td>Scale:</td>         <td>1.0000</td>   \n",
       "</tr>\n",
       "<tr>\n",
       "    <td>No. Iterations:</td>        <td>6.0000</td>              <td></td>               <td></td>      \n",
       "</tr>\n",
       "</table>\n",
       "<table class=\"simpletable\">\n",
       "<tr>\n",
       "            <td></td>             <th>Coef.</th>  <th>Std.Err.</th>     <th>z</th>     <th>P>|z|</th> <th>[0.025</th>  <th>0.975]</th> \n",
       "</tr>\n",
       "<tr>\n",
       "  <th>const</th>                 <td>-1.3764</td>  <td>0.0491</td>  <td>-28.0196</td> <td>0.0000</td> <td>-1.4726</td> <td>-1.2801</td>\n",
       "</tr>\n",
       "<tr>\n",
       "  <th>offervalue</th>            <td>-0.1434</td>  <td>0.0257</td>   <td>-5.5710</td> <td>0.0000</td> <td>-0.1938</td> <td>-0.0929</td>\n",
       "</tr>\n",
       "<tr>\n",
       "  <th>avg_category_quantity</th> <td>0.1050</td>   <td>0.0322</td>   <td>3.2604</td>  <td>0.0011</td> <td>0.0419</td>  <td>0.1681</td> \n",
       "</tr>\n",
       "<tr>\n",
       "  <th>avg_category_amount</th>   <td>0.0946</td>   <td>0.0091</td>   <td>10.3489</td> <td>0.0000</td> <td>0.0767</td>  <td>0.1125</td> \n",
       "</tr>\n",
       "<tr>\n",
       "  <th>market_2</th>              <td>-0.5006</td>  <td>0.1486</td>   <td>-3.3682</td> <td>0.0008</td> <td>-0.7918</td> <td>-0.2093</td>\n",
       "</tr>\n",
       "<tr>\n",
       "  <th>market_4</th>              <td>0.2945</td>   <td>0.0796</td>   <td>3.7007</td>  <td>0.0002</td> <td>0.1385</td>  <td>0.4504</td> \n",
       "</tr>\n",
       "<tr>\n",
       "  <th>market_7</th>              <td>0.3112</td>   <td>0.1201</td>   <td>2.5911</td>  <td>0.0096</td> <td>0.0758</td>  <td>0.5465</td> \n",
       "</tr>\n",
       "<tr>\n",
       "  <th>market_8</th>              <td>0.3542</td>   <td>0.0720</td>   <td>4.9225</td>  <td>0.0000</td> <td>0.2132</td>  <td>0.4953</td> \n",
       "</tr>\n",
       "<tr>\n",
       "  <th>market_9</th>              <td>0.4808</td>   <td>0.0649</td>   <td>7.4049</td>  <td>0.0000</td> <td>0.3536</td>  <td>0.6081</td> \n",
       "</tr>\n",
       "<tr>\n",
       "  <th>market_10</th>             <td>0.4030</td>   <td>0.0413</td>   <td>9.7649</td>  <td>0.0000</td> <td>0.3221</td>  <td>0.4839</td> \n",
       "</tr>\n",
       "<tr>\n",
       "  <th>market_12</th>             <td>0.2943</td>   <td>0.0672</td>   <td>4.3826</td>  <td>0.0000</td> <td>0.1627</td>  <td>0.4259</td> \n",
       "</tr>\n",
       "<tr>\n",
       "  <th>market_14</th>             <td>1.1671</td>   <td>0.0697</td>   <td>16.7509</td> <td>0.0000</td> <td>1.0305</td>  <td>1.3036</td> \n",
       "</tr>\n",
       "<tr>\n",
       "  <th>market_16</th>             <td>0.2672</td>   <td>0.0833</td>   <td>3.2089</td>  <td>0.0013</td> <td>0.1040</td>  <td>0.4303</td> \n",
       "</tr>\n",
       "<tr>\n",
       "  <th>market_17</th>             <td>0.2238</td>   <td>0.1431</td>   <td>1.5637</td>  <td>0.1179</td> <td>-0.0567</td> <td>0.5042</td> \n",
       "</tr>\n",
       "<tr>\n",
       "  <th>market_18</th>             <td>0.1993</td>   <td>0.1252</td>   <td>1.5919</td>  <td>0.1114</td> <td>-0.0461</td> <td>0.4446</td> \n",
       "</tr>\n",
       "<tr>\n",
       "  <th>market_20</th>             <td>0.5015</td>   <td>0.0658</td>   <td>7.6234</td>  <td>0.0000</td> <td>0.3726</td>  <td>0.6305</td> \n",
       "</tr>\n",
       "<tr>\n",
       "  <th>market_21</th>             <td>0.8070</td>   <td>0.0584</td>   <td>13.8123</td> <td>0.0000</td> <td>0.6925</td>  <td>0.9215</td> \n",
       "</tr>\n",
       "<tr>\n",
       "  <th>market_23</th>             <td>0.4179</td>   <td>0.2407</td>   <td>1.7364</td>  <td>0.0825</td> <td>-0.0538</td> <td>0.8896</td> \n",
       "</tr>\n",
       "<tr>\n",
       "  <th>market_24</th>             <td>0.3642</td>   <td>0.1375</td>   <td>2.6479</td>  <td>0.0081</td> <td>0.0946</td>  <td>0.6338</td> \n",
       "</tr>\n",
       "<tr>\n",
       "  <th>market_27</th>             <td>0.4618</td>   <td>0.0619</td>   <td>7.4591</td>  <td>0.0000</td> <td>0.3405</td>  <td>0.5831</td> \n",
       "</tr>\n",
       "<tr>\n",
       "  <th>market_28</th>             <td>0.3143</td>   <td>0.1400</td>   <td>2.2450</td>  <td>0.0248</td> <td>0.0399</td>  <td>0.5887</td> \n",
       "</tr>\n",
       "<tr>\n",
       "  <th>market_33</th>             <td>0.3782</td>   <td>0.0919</td>   <td>4.1142</td>  <td>0.0000</td> <td>0.1980</td>  <td>0.5583</td> \n",
       "</tr>\n",
       "<tr>\n",
       "  <th>market_34</th>             <td>0.4831</td>   <td>0.0848</td>   <td>5.7006</td>  <td>0.0000</td> <td>0.3170</td>  <td>0.6493</td> \n",
       "</tr>\n",
       "<tr>\n",
       "  <th>market_35</th>             <td>0.4558</td>   <td>0.1002</td>   <td>4.5489</td>  <td>0.0000</td> <td>0.2594</td>  <td>0.6522</td> \n",
       "</tr>\n",
       "<tr>\n",
       "  <th>market_37</th>             <td>0.4519</td>   <td>0.0645</td>   <td>7.0036</td>  <td>0.0000</td> <td>0.3255</td>  <td>0.5784</td> \n",
       "</tr>\n",
       "<tr>\n",
       "  <th>exact_item_bought_1</th>   <td>-0.1927</td>  <td>0.0455</td>   <td>-4.2322</td> <td>0.0000</td> <td>-0.2820</td> <td>-0.1035</td>\n",
       "</tr>\n",
       "</table>"
      ],
      "text/plain": [
       "<class 'statsmodels.iolib.summary2.Summary'>\n",
       "\"\"\"\n",
       "                            Results: Logit\n",
       "======================================================================\n",
       "Model:                Logit             Pseudo R-squared:  0.025      \n",
       "Dependent Variable:   repeater          AIC:               38542.5878 \n",
       "Date:                 2020-12-02 15:47  BIC:               38761.5284 \n",
       "No. Observations:     33550             Log-Likelihood:    -19245.    \n",
       "Df Model:             25                LL-Null:           -19748.    \n",
       "Df Residuals:         33524             LLR p-value:       3.0481e-196\n",
       "Converged:            1.0000            Scale:             1.0000     \n",
       "No. Iterations:       6.0000                                          \n",
       "----------------------------------------------------------------------\n",
       "                       Coef.  Std.Err.    z     P>|z|   [0.025  0.975]\n",
       "----------------------------------------------------------------------\n",
       "const                 -1.3764   0.0491 -28.0196 0.0000 -1.4726 -1.2801\n",
       "offervalue            -0.1434   0.0257  -5.5710 0.0000 -0.1938 -0.0929\n",
       "avg_category_quantity  0.1050   0.0322   3.2604 0.0011  0.0419  0.1681\n",
       "avg_category_amount    0.0946   0.0091  10.3489 0.0000  0.0767  0.1125\n",
       "market_2              -0.5006   0.1486  -3.3682 0.0008 -0.7918 -0.2093\n",
       "market_4               0.2945   0.0796   3.7007 0.0002  0.1385  0.4504\n",
       "market_7               0.3112   0.1201   2.5911 0.0096  0.0758  0.5465\n",
       "market_8               0.3542   0.0720   4.9225 0.0000  0.2132  0.4953\n",
       "market_9               0.4808   0.0649   7.4049 0.0000  0.3536  0.6081\n",
       "market_10              0.4030   0.0413   9.7649 0.0000  0.3221  0.4839\n",
       "market_12              0.2943   0.0672   4.3826 0.0000  0.1627  0.4259\n",
       "market_14              1.1671   0.0697  16.7509 0.0000  1.0305  1.3036\n",
       "market_16              0.2672   0.0833   3.2089 0.0013  0.1040  0.4303\n",
       "market_17              0.2238   0.1431   1.5637 0.1179 -0.0567  0.5042\n",
       "market_18              0.1993   0.1252   1.5919 0.1114 -0.0461  0.4446\n",
       "market_20              0.5015   0.0658   7.6234 0.0000  0.3726  0.6305\n",
       "market_21              0.8070   0.0584  13.8123 0.0000  0.6925  0.9215\n",
       "market_23              0.4179   0.2407   1.7364 0.0825 -0.0538  0.8896\n",
       "market_24              0.3642   0.1375   2.6479 0.0081  0.0946  0.6338\n",
       "market_27              0.4618   0.0619   7.4591 0.0000  0.3405  0.5831\n",
       "market_28              0.3143   0.1400   2.2450 0.0248  0.0399  0.5887\n",
       "market_33              0.3782   0.0919   4.1142 0.0000  0.1980  0.5583\n",
       "market_34              0.4831   0.0848   5.7006 0.0000  0.3170  0.6493\n",
       "market_35              0.4558   0.1002   4.5489 0.0000  0.2594  0.6522\n",
       "market_37              0.4519   0.0645   7.0036 0.0000  0.3255  0.5784\n",
       "exact_item_bought_1   -0.1927   0.0455  -4.2322 0.0000 -0.2820 -0.1035\n",
       "======================================================================\n",
       "\n",
       "\"\"\""
      ]
     },
     "execution_count": 70,
     "metadata": {},
     "output_type": "execute_result"
    }
   ],
   "source": [
    "# refit the logistic model\n",
    "coupon_fit2 = sm.Logit(y_train, x_train[sig_var]).fit()\n",
    "coupon_fit2.summary2()"
   ]
  },
  {
   "cell_type": "markdown",
   "metadata": {},
   "source": [
    "* There are 3 variables of which p-values have increased above 0.05 after refitting the model\n",
    "-> drop the variables"
   ]
  },
  {
   "cell_type": "code",
   "execution_count": 74,
   "metadata": {
    "scrolled": true
   },
   "outputs": [
    {
     "data": {
      "text/plain": [
       "['const',\n",
       " 'offervalue',\n",
       " 'avg_category_quantity',\n",
       " 'avg_category_amount',\n",
       " 'market_2',\n",
       " 'market_4',\n",
       " 'market_7',\n",
       " 'market_8',\n",
       " 'market_9',\n",
       " 'market_10',\n",
       " 'market_12',\n",
       " 'market_14',\n",
       " 'market_16',\n",
       " 'market_20',\n",
       " 'market_21',\n",
       " 'market_24',\n",
       " 'market_27',\n",
       " 'market_28',\n",
       " 'market_33',\n",
       " 'market_34',\n",
       " 'market_35',\n",
       " 'market_37',\n",
       " 'exact_item_bought_1']"
      ]
     },
     "execution_count": 74,
     "metadata": {},
     "output_type": "execute_result"
    }
   ],
   "source": [
    "coupon_pvalues2 = pd.DataFrame(coupon_fit2.pvalues)\n",
    "coupon_pvalues2 = coupon_pvalues2.reset_index()\n",
    "sig_var2 = list(coupon_pvalues2.iloc[i, 0] for i in range(len(coupon_pvalues2)) if coupon_pvalues2.iloc[i, 1] <= 0.05)\n",
    "sig_var2"
   ]
  },
  {
   "cell_type": "code",
   "execution_count": 75,
   "metadata": {
    "scrolled": true
   },
   "outputs": [
    {
     "name": "stdout",
     "output_type": "stream",
     "text": [
      "Optimization terminated successfully.\n",
      "         Current function value: 0.573736\n",
      "         Iterations 6\n"
     ]
    },
    {
     "data": {
      "text/html": [
       "<table class=\"simpletable\">\n",
       "<tr>\n",
       "        <td>Model:</td>              <td>Logit</td>      <td>Pseudo R-squared:</td>    <td>0.025</td>   \n",
       "</tr>\n",
       "<tr>\n",
       "  <td>Dependent Variable:</td>     <td>repeater</td>           <td>AIC:</td>        <td>38543.6702</td> \n",
       "</tr>\n",
       "<tr>\n",
       "         <td>Date:</td>        <td>2020-12-02 16:00</td>       <td>BIC:</td>        <td>38737.3484</td> \n",
       "</tr>\n",
       "<tr>\n",
       "   <td>No. Observations:</td>        <td>33550</td>       <td>Log-Likelihood:</td>    <td>-19249.</td>  \n",
       "</tr>\n",
       "<tr>\n",
       "       <td>Df Model:</td>             <td>22</td>            <td>LL-Null:</td>        <td>-19748.</td>  \n",
       "</tr>\n",
       "<tr>\n",
       "     <td>Df Residuals:</td>          <td>33527</td>        <td>LLR p-value:</td>    <td>3.2666e-197</td>\n",
       "</tr>\n",
       "<tr>\n",
       "      <td>Converged:</td>           <td>1.0000</td>           <td>Scale:</td>         <td>1.0000</td>   \n",
       "</tr>\n",
       "<tr>\n",
       "    <td>No. Iterations:</td>        <td>6.0000</td>              <td></td>               <td></td>      \n",
       "</tr>\n",
       "</table>\n",
       "<table class=\"simpletable\">\n",
       "<tr>\n",
       "            <td></td>             <th>Coef.</th>  <th>Std.Err.</th>     <th>z</th>     <th>P>|z|</th> <th>[0.025</th>  <th>0.975]</th> \n",
       "</tr>\n",
       "<tr>\n",
       "  <th>const</th>                 <td>-1.3469</td>  <td>0.0476</td>  <td>-28.3117</td> <td>0.0000</td> <td>-1.4402</td> <td>-1.2537</td>\n",
       "</tr>\n",
       "<tr>\n",
       "  <th>offervalue</th>            <td>-0.1435</td>  <td>0.0257</td>   <td>-5.5770</td> <td>0.0000</td> <td>-0.1939</td> <td>-0.0930</td>\n",
       "</tr>\n",
       "<tr>\n",
       "  <th>avg_category_quantity</th> <td>0.1061</td>   <td>0.0322</td>   <td>3.2958</td>  <td>0.0010</td> <td>0.0430</td>  <td>0.1692</td> \n",
       "</tr>\n",
       "<tr>\n",
       "  <th>avg_category_amount</th>   <td>0.0943</td>   <td>0.0091</td>   <td>10.3157</td> <td>0.0000</td> <td>0.0764</td>  <td>0.1122</td> \n",
       "</tr>\n",
       "<tr>\n",
       "  <th>market_2</th>              <td>-0.5301</td>  <td>0.1481</td>   <td>-3.5790</td> <td>0.0003</td> <td>-0.8204</td> <td>-0.2398</td>\n",
       "</tr>\n",
       "<tr>\n",
       "  <th>market_4</th>              <td>0.2649</td>   <td>0.0786</td>   <td>3.3685</td>  <td>0.0008</td> <td>0.1107</td>  <td>0.4190</td> \n",
       "</tr>\n",
       "<tr>\n",
       "  <th>market_7</th>              <td>0.2815</td>   <td>0.1195</td>   <td>2.3562</td>  <td>0.0185</td> <td>0.0473</td>  <td>0.5156</td> \n",
       "</tr>\n",
       "<tr>\n",
       "  <th>market_8</th>              <td>0.3245</td>   <td>0.0709</td>   <td>4.5765</td>  <td>0.0000</td> <td>0.1855</td>  <td>0.4635</td> \n",
       "</tr>\n",
       "<tr>\n",
       "  <th>market_9</th>              <td>0.4509</td>   <td>0.0637</td>   <td>7.0732</td>  <td>0.0000</td> <td>0.3259</td>  <td>0.5758</td> \n",
       "</tr>\n",
       "<tr>\n",
       "  <th>market_10</th>             <td>0.3733</td>   <td>0.0394</td>   <td>9.4728</td>  <td>0.0000</td> <td>0.2961</td>  <td>0.4506</td> \n",
       "</tr>\n",
       "<tr>\n",
       "  <th>market_12</th>             <td>0.2647</td>   <td>0.0660</td>   <td>4.0087</td>  <td>0.0001</td> <td>0.1353</td>  <td>0.3941</td> \n",
       "</tr>\n",
       "<tr>\n",
       "  <th>market_14</th>             <td>1.1370</td>   <td>0.0686</td>   <td>16.5852</td> <td>0.0000</td> <td>1.0026</td>  <td>1.2714</td> \n",
       "</tr>\n",
       "<tr>\n",
       "  <th>market_16</th>             <td>0.2374</td>   <td>0.0823</td>   <td>2.8833</td>  <td>0.0039</td> <td>0.0760</td>  <td>0.3988</td> \n",
       "</tr>\n",
       "<tr>\n",
       "  <th>market_20</th>             <td>0.4720</td>   <td>0.0646</td>   <td>7.3003</td>  <td>0.0000</td> <td>0.3452</td>  <td>0.5987</td> \n",
       "</tr>\n",
       "<tr>\n",
       "  <th>market_21</th>             <td>0.7773</td>   <td>0.0571</td>   <td>13.6062</td> <td>0.0000</td> <td>0.6653</td>  <td>0.8893</td> \n",
       "</tr>\n",
       "<tr>\n",
       "  <th>market_24</th>             <td>0.3345</td>   <td>0.1370</td>   <td>2.4419</td>  <td>0.0146</td> <td>0.0660</td>  <td>0.6031</td> \n",
       "</tr>\n",
       "<tr>\n",
       "  <th>market_27</th>             <td>0.4322</td>   <td>0.0607</td>   <td>7.1211</td>  <td>0.0000</td> <td>0.3133</td>  <td>0.5512</td> \n",
       "</tr>\n",
       "<tr>\n",
       "  <th>market_28</th>             <td>0.2846</td>   <td>0.1395</td>   <td>2.0407</td>  <td>0.0413</td> <td>0.0113</td>  <td>0.5579</td> \n",
       "</tr>\n",
       "<tr>\n",
       "  <th>market_33</th>             <td>0.3484</td>   <td>0.0911</td>   <td>3.8249</td>  <td>0.0001</td> <td>0.1699</td>  <td>0.5270</td> \n",
       "</tr>\n",
       "<tr>\n",
       "  <th>market_34</th>             <td>0.4534</td>   <td>0.0839</td>   <td>5.4069</td>  <td>0.0000</td> <td>0.2891</td>  <td>0.6178</td> \n",
       "</tr>\n",
       "<tr>\n",
       "  <th>market_35</th>             <td>0.4261</td>   <td>0.0994</td>   <td>4.2845</td>  <td>0.0000</td> <td>0.2312</td>  <td>0.6210</td> \n",
       "</tr>\n",
       "<tr>\n",
       "  <th>market_37</th>             <td>0.4224</td>   <td>0.0634</td>   <td>6.6655</td>  <td>0.0000</td> <td>0.2982</td>  <td>0.5466</td> \n",
       "</tr>\n",
       "<tr>\n",
       "  <th>exact_item_bought_1</th>   <td>-0.1921</td>  <td>0.0455</td>   <td>-4.2199</td> <td>0.0000</td> <td>-0.2814</td> <td>-0.1029</td>\n",
       "</tr>\n",
       "</table>"
      ],
      "text/plain": [
       "<class 'statsmodels.iolib.summary2.Summary'>\n",
       "\"\"\"\n",
       "                            Results: Logit\n",
       "======================================================================\n",
       "Model:                Logit             Pseudo R-squared:  0.025      \n",
       "Dependent Variable:   repeater          AIC:               38543.6702 \n",
       "Date:                 2020-12-02 16:00  BIC:               38737.3484 \n",
       "No. Observations:     33550             Log-Likelihood:    -19249.    \n",
       "Df Model:             22                LL-Null:           -19748.    \n",
       "Df Residuals:         33527             LLR p-value:       3.2666e-197\n",
       "Converged:            1.0000            Scale:             1.0000     \n",
       "No. Iterations:       6.0000                                          \n",
       "----------------------------------------------------------------------\n",
       "                       Coef.  Std.Err.    z     P>|z|   [0.025  0.975]\n",
       "----------------------------------------------------------------------\n",
       "const                 -1.3469   0.0476 -28.3117 0.0000 -1.4402 -1.2537\n",
       "offervalue            -0.1435   0.0257  -5.5770 0.0000 -0.1939 -0.0930\n",
       "avg_category_quantity  0.1061   0.0322   3.2958 0.0010  0.0430  0.1692\n",
       "avg_category_amount    0.0943   0.0091  10.3157 0.0000  0.0764  0.1122\n",
       "market_2              -0.5301   0.1481  -3.5790 0.0003 -0.8204 -0.2398\n",
       "market_4               0.2649   0.0786   3.3685 0.0008  0.1107  0.4190\n",
       "market_7               0.2815   0.1195   2.3562 0.0185  0.0473  0.5156\n",
       "market_8               0.3245   0.0709   4.5765 0.0000  0.1855  0.4635\n",
       "market_9               0.4509   0.0637   7.0732 0.0000  0.3259  0.5758\n",
       "market_10              0.3733   0.0394   9.4728 0.0000  0.2961  0.4506\n",
       "market_12              0.2647   0.0660   4.0087 0.0001  0.1353  0.3941\n",
       "market_14              1.1370   0.0686  16.5852 0.0000  1.0026  1.2714\n",
       "market_16              0.2374   0.0823   2.8833 0.0039  0.0760  0.3988\n",
       "market_20              0.4720   0.0646   7.3003 0.0000  0.3452  0.5987\n",
       "market_21              0.7773   0.0571  13.6062 0.0000  0.6653  0.8893\n",
       "market_24              0.3345   0.1370   2.4419 0.0146  0.0660  0.6031\n",
       "market_27              0.4322   0.0607   7.1211 0.0000  0.3133  0.5512\n",
       "market_28              0.2846   0.1395   2.0407 0.0413  0.0113  0.5579\n",
       "market_33              0.3484   0.0911   3.8249 0.0001  0.1699  0.5270\n",
       "market_34              0.4534   0.0839   5.4069 0.0000  0.2891  0.6178\n",
       "market_35              0.4261   0.0994   4.2845 0.0000  0.2312  0.6210\n",
       "market_37              0.4224   0.0634   6.6655 0.0000  0.2982  0.5466\n",
       "exact_item_bought_1   -0.1921   0.0455  -4.2199 0.0000 -0.2814 -0.1029\n",
       "======================================================================\n",
       "\n",
       "\"\"\""
      ]
     },
     "execution_count": 75,
     "metadata": {},
     "output_type": "execute_result"
    }
   ],
   "source": [
    "# refit the logistic model\n",
    "coupon_fit3 = sm.Logit(y_train, x_train[sig_var2]).fit()\n",
    "coupon_fit3.summary2()"
   ]
  },
  {
   "cell_type": "markdown",
   "metadata": {},
   "source": [
    "### -> BIC: 38,877 -> 38,737 (decreased)\n",
    "### -> Now that the model contains only the variables with p-values <= 0.05, test the model's accuracy with the test sets"
   ]
  },
  {
   "cell_type": "code",
   "execution_count": 177,
   "metadata": {},
   "outputs": [
    {
     "data": {
      "text/html": [
       "<div>\n",
       "<style scoped>\n",
       "    .dataframe tbody tr th:only-of-type {\n",
       "        vertical-align: middle;\n",
       "    }\n",
       "\n",
       "    .dataframe tbody tr th {\n",
       "        vertical-align: top;\n",
       "    }\n",
       "\n",
       "    .dataframe thead th {\n",
       "        text-align: right;\n",
       "    }\n",
       "</style>\n",
       "<table border=\"1\" class=\"dataframe\">\n",
       "  <thead>\n",
       "    <tr style=\"text-align: right;\">\n",
       "      <th></th>\n",
       "      <th>actual</th>\n",
       "      <th>pred_prob</th>\n",
       "    </tr>\n",
       "  </thead>\n",
       "  <tbody>\n",
       "    <tr>\n",
       "      <th>15059</th>\n",
       "      <td>0</td>\n",
       "      <td>0.220882</td>\n",
       "    </tr>\n",
       "    <tr>\n",
       "      <th>31510</th>\n",
       "      <td>1</td>\n",
       "      <td>0.272384</td>\n",
       "    </tr>\n",
       "    <tr>\n",
       "      <th>18900</th>\n",
       "      <td>0</td>\n",
       "      <td>0.443755</td>\n",
       "    </tr>\n",
       "    <tr>\n",
       "      <th>18594</th>\n",
       "      <td>0</td>\n",
       "      <td>0.234979</td>\n",
       "    </tr>\n",
       "    <tr>\n",
       "      <th>14914</th>\n",
       "      <td>0</td>\n",
       "      <td>0.281880</td>\n",
       "    </tr>\n",
       "    <tr>\n",
       "      <th>30976</th>\n",
       "      <td>1</td>\n",
       "      <td>0.242371</td>\n",
       "    </tr>\n",
       "    <tr>\n",
       "      <th>32966</th>\n",
       "      <td>1</td>\n",
       "      <td>0.275705</td>\n",
       "    </tr>\n",
       "    <tr>\n",
       "      <th>44063</th>\n",
       "      <td>1</td>\n",
       "      <td>0.300733</td>\n",
       "    </tr>\n",
       "    <tr>\n",
       "      <th>10449</th>\n",
       "      <td>0</td>\n",
       "      <td>0.220882</td>\n",
       "    </tr>\n",
       "    <tr>\n",
       "      <th>10987</th>\n",
       "      <td>0</td>\n",
       "      <td>0.253279</td>\n",
       "    </tr>\n",
       "  </tbody>\n",
       "</table>\n",
       "</div>"
      ],
      "text/plain": [
       "       actual  pred_prob\n",
       "15059       0   0.220882\n",
       "31510       1   0.272384\n",
       "18900       0   0.443755\n",
       "18594       0   0.234979\n",
       "14914       0   0.281880\n",
       "30976       1   0.242371\n",
       "32966       1   0.275705\n",
       "44063       1   0.300733\n",
       "10449       0   0.220882\n",
       "10987       0   0.253279"
      ]
     },
     "execution_count": 177,
     "metadata": {},
     "output_type": "execute_result"
    }
   ],
   "source": [
    "# Create a data frame with the actual y_test values and the predicted probabilities by plugging the x_test values to the model\n",
    "y_pred = pd.DataFrame({\"actual\":y_test, \"pred_prob\":coupon_fit3.predict(x_test[sig_var2])})\n",
    "y_pred.sample(10, random_state = 13)"
   ]
  },
  {
   "cell_type": "code",
   "execution_count": 183,
   "metadata": {},
   "outputs": [
    {
     "data": {
      "text/html": [
       "<div>\n",
       "<style scoped>\n",
       "    .dataframe tbody tr th:only-of-type {\n",
       "        vertical-align: middle;\n",
       "    }\n",
       "\n",
       "    .dataframe tbody tr th {\n",
       "        vertical-align: top;\n",
       "    }\n",
       "\n",
       "    .dataframe thead th {\n",
       "        text-align: right;\n",
       "    }\n",
       "</style>\n",
       "<table border=\"1\" class=\"dataframe\">\n",
       "  <thead>\n",
       "    <tr style=\"text-align: right;\">\n",
       "      <th></th>\n",
       "      <th>actual</th>\n",
       "      <th>pred_prob</th>\n",
       "      <th>predicted</th>\n",
       "    </tr>\n",
       "  </thead>\n",
       "  <tbody>\n",
       "    <tr>\n",
       "      <th>15059</th>\n",
       "      <td>0</td>\n",
       "      <td>0.220882</td>\n",
       "      <td>0</td>\n",
       "    </tr>\n",
       "    <tr>\n",
       "      <th>31510</th>\n",
       "      <td>1</td>\n",
       "      <td>0.272384</td>\n",
       "      <td>0</td>\n",
       "    </tr>\n",
       "    <tr>\n",
       "      <th>18900</th>\n",
       "      <td>0</td>\n",
       "      <td>0.443755</td>\n",
       "      <td>1</td>\n",
       "    </tr>\n",
       "    <tr>\n",
       "      <th>18594</th>\n",
       "      <td>0</td>\n",
       "      <td>0.234979</td>\n",
       "      <td>0</td>\n",
       "    </tr>\n",
       "    <tr>\n",
       "      <th>14914</th>\n",
       "      <td>0</td>\n",
       "      <td>0.281880</td>\n",
       "      <td>0</td>\n",
       "    </tr>\n",
       "    <tr>\n",
       "      <th>30976</th>\n",
       "      <td>1</td>\n",
       "      <td>0.242371</td>\n",
       "      <td>0</td>\n",
       "    </tr>\n",
       "    <tr>\n",
       "      <th>32966</th>\n",
       "      <td>1</td>\n",
       "      <td>0.275705</td>\n",
       "      <td>0</td>\n",
       "    </tr>\n",
       "    <tr>\n",
       "      <th>44063</th>\n",
       "      <td>1</td>\n",
       "      <td>0.300733</td>\n",
       "      <td>1</td>\n",
       "    </tr>\n",
       "    <tr>\n",
       "      <th>10449</th>\n",
       "      <td>0</td>\n",
       "      <td>0.220882</td>\n",
       "      <td>0</td>\n",
       "    </tr>\n",
       "    <tr>\n",
       "      <th>10987</th>\n",
       "      <td>0</td>\n",
       "      <td>0.253279</td>\n",
       "      <td>0</td>\n",
       "    </tr>\n",
       "  </tbody>\n",
       "</table>\n",
       "</div>"
      ],
      "text/plain": [
       "       actual  pred_prob  predicted\n",
       "15059       0   0.220882          0\n",
       "31510       1   0.272384          0\n",
       "18900       0   0.443755          1\n",
       "18594       0   0.234979          0\n",
       "14914       0   0.281880          0\n",
       "30976       1   0.242371          0\n",
       "32966       1   0.275705          0\n",
       "44063       1   0.300733          1\n",
       "10449       0   0.220882          0\n",
       "10987       0   0.253279          0"
      ]
     },
     "execution_count": 183,
     "metadata": {},
     "output_type": "execute_result"
    }
   ],
   "source": [
    "# add a column to the data frame with the predicted y values by changing the probabilities to 0 or 1 based on the criterion 0.3\n",
    "y_pred['predicted'] = y_pred[\"pred_prob\"].map(lambda x: 1 if x > 0.3 else 0)\n",
    "y_pred.sample(10, random_state = 13)"
   ]
  },
  {
   "cell_type": "markdown",
   "metadata": {},
   "source": [
    "## Measuring the model's accuracies"
   ]
  },
  {
   "cell_type": "code",
   "execution_count": 184,
   "metadata": {},
   "outputs": [],
   "source": [
    "import matplotlib.pyplot as plt\n",
    "import seaborn as sns\n",
    "%matplotlib inline\n",
    "from sklearn import metrics"
   ]
  },
  {
   "cell_type": "markdown",
   "metadata": {},
   "source": [
    "### 1) Confusion Matrix"
   ]
  },
  {
   "cell_type": "code",
   "execution_count": 185,
   "metadata": {},
   "outputs": [],
   "source": [
    "def draw_cm(actual, predicted):\n",
    "    cm = metrics.confusion_matrix( actual, predicted, [1,0] )\n",
    "    sns.heatmap(cm, annot=True, fmt='.2f',\n",
    "    xticklabels = [\"failure\", \"success\"] ,\n",
    "    yticklabels = [\"failure\", \"success\"] )\n",
    "    plt.ylabel('Actual')\n",
    "    plt.xlabel('Predicted_y')\n",
    "    plt.show()"
   ]
  },
  {
   "cell_type": "code",
   "execution_count": 186,
   "metadata": {},
   "outputs": [
    {
     "data": {
      "image/png": "[encoded data removed]",
      "text/plain": [
       "<Figure size 432x288 with 2 Axes>"
      ]
     },
     "metadata": {
      "needs_background": "light"
     },
     "output_type": "display_data"
    }
   ],
   "source": [
    "draw_cm(y_pred[\"actual\"], y_pred[\"predicted\"])"
   ]
  },
  {
   "cell_type": "markdown",
   "metadata": {},
   "source": [
    "* true negatives = 1721/ true positives = 7760\n",
    "* false negatives = 2215/ false positives = 2683"
   ]
  },
  {
   "cell_type": "markdown",
   "metadata": {},
   "source": [
    "### 2) Classification Report"
   ]
  },
  {
   "cell_type": "code",
   "execution_count": 118,
   "metadata": {},
   "outputs": [
    {
     "name": "stdout",
     "output_type": "stream",
     "text": [
      "              precision    recall  f1-score   support\n",
      "\n",
      "           0       0.78      0.74      0.76     10443\n",
      "           1       0.39      0.44      0.41      3936\n",
      "\n",
      "    accuracy                           0.66     14379\n",
      "   macro avg       0.58      0.59      0.59     14379\n",
      "weighted avg       0.67      0.66      0.67     14379\n",
      "\n"
     ]
    }
   ],
   "source": [
    "print(metrics.classification_report( y_pred.actual,y_pred.predicted))"
   ]
  },
  {
   "cell_type": "markdown",
   "metadata": {},
   "source": [
    "### !! Try to change the criterion percentage from 0.3 to 0.5 and test the accuracy "
   ]
  },
  {
   "cell_type": "code",
   "execution_count": 120,
   "metadata": {},
   "outputs": [
    {
     "name": "stdout",
     "output_type": "stream",
     "text": [
      "              precision    recall  f1-score   support\n",
      "\n",
      "           0       0.73      0.99      0.84     10443\n",
      "           1       0.51      0.02      0.03      3936\n",
      "\n",
      "    accuracy                           0.73     14379\n",
      "   macro avg       0.62      0.51      0.44     14379\n",
      "weighted avg       0.67      0.73      0.62     14379\n",
      "\n"
     ]
    }
   ],
   "source": [
    "y_pred['predicted'] = y_pred[\"pred_prob\"].map(lambda x: 1 if x > 0.5 else 0)\n",
    "print(metrics.classification_report( y_pred.actual,y_pred.predicted))"
   ]
  },
  {
   "cell_type": "markdown",
   "metadata": {},
   "source": [
    "### -> inspite of the higher accuracy of the model with the criterion probability 0.5, the model barely predicts the target variable \"1\". And the lower macro averages in the recall and f1-score of the results with a 0.5 represent lower accuracies of the prediction.\n",
    "### -> So, let's take the prediction results with a 0.3"
   ]
  },
  {
   "cell_type": "code",
   "execution_count": 125,
   "metadata": {},
   "outputs": [],
   "source": [
    "y_pred['predicted'] = y_pred[\"pred_prob\"].map(lambda x: 1 if x > 0.3 else 0)"
   ]
  },
  {
   "cell_type": "markdown",
   "metadata": {},
   "source": [
    "## Model without the variable \"Market\"\n",
    "#### -> Considering the possibility of the large number of the variables dropping the accuracies of the entire model, I'm trying to build a new model removing the Market variable"
   ]
  },
  {
   "cell_type": "code",
   "execution_count": 149,
   "metadata": {},
   "outputs": [
    {
     "name": "stdout",
     "output_type": "stream",
     "text": [
      "<class 'pandas.core.frame.DataFrame'>\n",
      "Int64Index: 47929 entries, 0 to 47954\n",
      "Data columns (total 6 columns):\n",
      " #   Column                 Non-Null Count  Dtype  \n",
      "---  ------                 --------------  -----  \n",
      " 0   repeater               47929 non-null  int64  \n",
      " 1   chain                  47929 non-null  int64  \n",
      " 2   offervalue             47929 non-null  float64\n",
      " 3   avg_category_quantity  47929 non-null  float64\n",
      " 4   avg_category_amount    47929 non-null  float64\n",
      " 5   exact_item_bought      47929 non-null  object \n",
      "dtypes: float64(3), int64(2), object(1)\n",
      "memory usage: 2.6+ MB\n"
     ]
    }
   ],
   "source": [
    "# drop the market variable\n",
    "coupon2 = coupon.drop([\"market\"], axis = 1)\n",
    "coupon2.info()"
   ]
  },
  {
   "cell_type": "code",
   "execution_count": 151,
   "metadata": {},
   "outputs": [
    {
     "data": {
      "text/plain": [
       "['chain',\n",
       " 'offervalue',\n",
       " 'avg_category_quantity',\n",
       " 'avg_category_amount',\n",
       " 'exact_item_bought']"
      ]
     },
     "execution_count": 151,
     "metadata": {},
     "output_type": "execute_result"
    }
   ],
   "source": [
    "# get the independent variables\n",
    "X_features2 = list(coupon2.columns)\n",
    "X_features2.remove(\"repeater\")\n",
    "X_features2"
   ]
  },
  {
   "cell_type": "code",
   "execution_count": 154,
   "metadata": {
    "scrolled": true
   },
   "outputs": [
    {
     "name": "stdout",
     "output_type": "stream",
     "text": [
      "<class 'pandas.core.frame.DataFrame'>\n",
      "Int64Index: 47929 entries, 0 to 47954\n",
      "Data columns (total 5 columns):\n",
      " #   Column                 Non-Null Count  Dtype  \n",
      "---  ------                 --------------  -----  \n",
      " 0   chain                  47929 non-null  int64  \n",
      " 1   offervalue             47929 non-null  float64\n",
      " 2   avg_category_quantity  47929 non-null  float64\n",
      " 3   avg_category_amount    47929 non-null  float64\n",
      " 4   exact_item_bought_1    47929 non-null  uint8  \n",
      "dtypes: float64(3), int64(1), uint8(1)\n",
      "memory usage: 1.9 MB\n"
     ]
    }
   ],
   "source": [
    "# encode the exact_item_bought\n",
    "encoded_coupon2 = pd.get_dummies(coupon2[X_features2], drop_first=True)\n",
    "encoded_coupon2.info()"
   ]
  },
  {
   "cell_type": "code",
   "execution_count": 155,
   "metadata": {},
   "outputs": [],
   "source": [
    "# split the dataset into train and test sets \n",
    "y2 = coupon2[\"repeater\"]\n",
    "x2 = sm.add_constant(encoded_coupon2)\n",
    "x_train2, x_test2, y_train2, y_test2 = train_test_split(x2, y2, train_size = 0.7, random_state = 123)"
   ]
  },
  {
   "cell_type": "code",
   "execution_count": 157,
   "metadata": {},
   "outputs": [
    {
     "name": "stdout",
     "output_type": "stream",
     "text": [
      "Optimization terminated successfully.\n",
      "         Current function value: 0.580351\n",
      "         Iterations 5\n"
     ]
    },
    {
     "data": {
      "text/html": [
       "<table class=\"simpletable\">\n",
       "<tr>\n",
       "        <td>Model:</td>              <td>Logit</td>      <td>Pseudo R-squared:</td>    <td>0.014</td>   \n",
       "</tr>\n",
       "<tr>\n",
       "  <td>Dependent Variable:</td>     <td>repeater</td>           <td>AIC:</td>        <td>38953.5497</td> \n",
       "</tr>\n",
       "<tr>\n",
       "         <td>Date:</td>        <td>2020-12-02 20:05</td>       <td>BIC:</td>        <td>39004.0744</td> \n",
       "</tr>\n",
       "<tr>\n",
       "   <td>No. Observations:</td>        <td>33550</td>       <td>Log-Likelihood:</td>    <td>-19471.</td>  \n",
       "</tr>\n",
       "<tr>\n",
       "       <td>Df Model:</td>              <td>5</td>            <td>LL-Null:</td>        <td>-19748.</td>  \n",
       "</tr>\n",
       "<tr>\n",
       "     <td>Df Residuals:</td>          <td>33544</td>        <td>LLR p-value:</td>    <td>1.0253e-117</td>\n",
       "</tr>\n",
       "<tr>\n",
       "      <td>Converged:</td>           <td>1.0000</td>           <td>Scale:</td>         <td>1.0000</td>   \n",
       "</tr>\n",
       "<tr>\n",
       "    <td>No. Iterations:</td>        <td>5.0000</td>              <td></td>               <td></td>      \n",
       "</tr>\n",
       "</table>\n",
       "<table class=\"simpletable\">\n",
       "<tr>\n",
       "            <td></td>             <th>Coef.</th>  <th>Std.Err.</th>     <th>z</th>     <th>P>|z|</th> <th>[0.025</th>  <th>0.975]</th> \n",
       "</tr>\n",
       "<tr>\n",
       "  <th>const</th>                 <td>-0.9741</td>  <td>0.0388</td>  <td>-25.1058</td> <td>0.0000</td> <td>-1.0501</td> <td>-0.8980</td>\n",
       "</tr>\n",
       "<tr>\n",
       "  <th>chain</th>                 <td>0.0000</td>   <td>0.0001</td>   <td>0.4258</td>  <td>0.6703</td> <td>-0.0002</td> <td>0.0002</td> \n",
       "</tr>\n",
       "<tr>\n",
       "  <th>offervalue</th>            <td>-0.1722</td>  <td>0.0251</td>   <td>-6.8682</td> <td>0.0000</td> <td>-0.2213</td> <td>-0.1230</td>\n",
       "</tr>\n",
       "<tr>\n",
       "  <th>avg_category_quantity</th> <td>0.1858</td>   <td>0.0318</td>   <td>5.8502</td>  <td>0.0000</td> <td>0.1236</td>  <td>0.2481</td> \n",
       "</tr>\n",
       "<tr>\n",
       "  <th>avg_category_amount</th>   <td>0.0859</td>   <td>0.0090</td>   <td>9.5770</td>  <td>0.0000</td> <td>0.0684</td>  <td>0.1035</td> \n",
       "</tr>\n",
       "<tr>\n",
       "  <th>exact_item_bought_1</th>   <td>-0.2372</td>  <td>0.0430</td>   <td>-5.5136</td> <td>0.0000</td> <td>-0.3215</td> <td>-0.1529</td>\n",
       "</tr>\n",
       "</table>"
      ],
      "text/plain": [
       "<class 'statsmodels.iolib.summary2.Summary'>\n",
       "\"\"\"\n",
       "                            Results: Logit\n",
       "======================================================================\n",
       "Model:                Logit             Pseudo R-squared:  0.014      \n",
       "Dependent Variable:   repeater          AIC:               38953.5497 \n",
       "Date:                 2020-12-02 20:05  BIC:               39004.0744 \n",
       "No. Observations:     33550             Log-Likelihood:    -19471.    \n",
       "Df Model:             5                 LL-Null:           -19748.    \n",
       "Df Residuals:         33544             LLR p-value:       1.0253e-117\n",
       "Converged:            1.0000            Scale:             1.0000     \n",
       "No. Iterations:       5.0000                                          \n",
       "----------------------------------------------------------------------\n",
       "                       Coef.  Std.Err.    z     P>|z|   [0.025  0.975]\n",
       "----------------------------------------------------------------------\n",
       "const                 -0.9741   0.0388 -25.1058 0.0000 -1.0501 -0.8980\n",
       "chain                  0.0000   0.0001   0.4258 0.6703 -0.0002  0.0002\n",
       "offervalue            -0.1722   0.0251  -6.8682 0.0000 -0.2213 -0.1230\n",
       "avg_category_quantity  0.1858   0.0318   5.8502 0.0000  0.1236  0.2481\n",
       "avg_category_amount    0.0859   0.0090   9.5770 0.0000  0.0684  0.1035\n",
       "exact_item_bought_1   -0.2372   0.0430  -5.5136 0.0000 -0.3215 -0.1529\n",
       "======================================================================\n",
       "\n",
       "\"\"\""
      ]
     },
     "execution_count": 157,
     "metadata": {},
     "output_type": "execute_result"
    }
   ],
   "source": [
    "# fit the logistic regression model\n",
    "coupon2_fit = sm.Logit(y_train2, x_train2).fit()\n",
    "coupon2_fit.summary2()"
   ]
  },
  {
   "cell_type": "markdown",
   "metadata": {},
   "source": [
    "* drop the column \"chain\" due to its p-value bigger than 0.05"
   ]
  },
  {
   "cell_type": "code",
   "execution_count": 160,
   "metadata": {},
   "outputs": [
    {
     "data": {
      "text/html": [
       "<div>\n",
       "<style scoped>\n",
       "    .dataframe tbody tr th:only-of-type {\n",
       "        vertical-align: middle;\n",
       "    }\n",
       "\n",
       "    .dataframe tbody tr th {\n",
       "        vertical-align: top;\n",
       "    }\n",
       "\n",
       "    .dataframe thead th {\n",
       "        text-align: right;\n",
       "    }\n",
       "</style>\n",
       "<table border=\"1\" class=\"dataframe\">\n",
       "  <thead>\n",
       "    <tr style=\"text-align: right;\">\n",
       "      <th></th>\n",
       "      <th>const</th>\n",
       "      <th>offervalue</th>\n",
       "      <th>avg_category_quantity</th>\n",
       "      <th>avg_category_amount</th>\n",
       "      <th>exact_item_bought_1</th>\n",
       "    </tr>\n",
       "  </thead>\n",
       "  <tbody>\n",
       "    <tr>\n",
       "      <th>2957</th>\n",
       "      <td>1.0</td>\n",
       "      <td>2.00</td>\n",
       "      <td>1.25</td>\n",
       "      <td>5.7125</td>\n",
       "      <td>1</td>\n",
       "    </tr>\n",
       "    <tr>\n",
       "      <th>25314</th>\n",
       "      <td>1.0</td>\n",
       "      <td>0.75</td>\n",
       "      <td>1.00</td>\n",
       "      <td>2.2400</td>\n",
       "      <td>1</td>\n",
       "    </tr>\n",
       "    <tr>\n",
       "      <th>40664</th>\n",
       "      <td>1.0</td>\n",
       "      <td>1.00</td>\n",
       "      <td>1.00</td>\n",
       "      <td>3.2920</td>\n",
       "      <td>1</td>\n",
       "    </tr>\n",
       "  </tbody>\n",
       "</table>\n",
       "</div>"
      ],
      "text/plain": [
       "       const  offervalue  avg_category_quantity  avg_category_amount  \\\n",
       "2957     1.0        2.00                   1.25               5.7125   \n",
       "25314    1.0        0.75                   1.00               2.2400   \n",
       "40664    1.0        1.00                   1.00               3.2920   \n",
       "\n",
       "       exact_item_bought_1  \n",
       "2957                     1  \n",
       "25314                    1  \n",
       "40664                    1  "
      ]
     },
     "execution_count": 160,
     "metadata": {},
     "output_type": "execute_result"
    }
   ],
   "source": [
    "# remove the chain from the both train and test sets\n",
    "x_train2 = x_train2.drop([\"chain\"], axis = 1)\n",
    "x_test2 = x_test2.drop([\"chain\"], axis = 1)\n",
    "x_train2.head(3)"
   ]
  },
  {
   "cell_type": "code",
   "execution_count": 161,
   "metadata": {},
   "outputs": [
    {
     "name": "stdout",
     "output_type": "stream",
     "text": [
      "Optimization terminated successfully.\n",
      "         Current function value: 0.580354\n",
      "         Iterations 5\n"
     ]
    },
    {
     "data": {
      "text/html": [
       "<table class=\"simpletable\">\n",
       "<tr>\n",
       "        <td>Model:</td>              <td>Logit</td>      <td>Pseudo R-squared:</td>    <td>0.014</td>   \n",
       "</tr>\n",
       "<tr>\n",
       "  <td>Dependent Variable:</td>     <td>repeater</td>           <td>AIC:</td>        <td>38951.7308</td> \n",
       "</tr>\n",
       "<tr>\n",
       "         <td>Date:</td>        <td>2020-12-02 20:12</td>       <td>BIC:</td>        <td>38993.8347</td> \n",
       "</tr>\n",
       "<tr>\n",
       "   <td>No. Observations:</td>        <td>33550</td>       <td>Log-Likelihood:</td>    <td>-19471.</td>  \n",
       "</tr>\n",
       "<tr>\n",
       "       <td>Df Model:</td>              <td>4</td>            <td>LL-Null:</td>        <td>-19748.</td>  \n",
       "</tr>\n",
       "<tr>\n",
       "     <td>Df Residuals:</td>          <td>33545</td>        <td>LLR p-value:</td>    <td>8.9372e-119</td>\n",
       "</tr>\n",
       "<tr>\n",
       "      <td>Converged:</td>           <td>1.0000</td>           <td>Scale:</td>         <td>1.0000</td>   \n",
       "</tr>\n",
       "<tr>\n",
       "    <td>No. Iterations:</td>        <td>5.0000</td>              <td></td>               <td></td>      \n",
       "</tr>\n",
       "</table>\n",
       "<table class=\"simpletable\">\n",
       "<tr>\n",
       "            <td></td>             <th>Coef.</th>  <th>Std.Err.</th>     <th>z</th>     <th>P>|z|</th> <th>[0.025</th>  <th>0.975]</th> \n",
       "</tr>\n",
       "<tr>\n",
       "  <th>const</th>                 <td>-0.9695</td>  <td>0.0373</td>  <td>-25.9953</td> <td>0.0000</td> <td>-1.0426</td> <td>-0.8964</td>\n",
       "</tr>\n",
       "<tr>\n",
       "  <th>offervalue</th>            <td>-0.1718</td>  <td>0.0251</td>   <td>-6.8574</td> <td>0.0000</td> <td>-0.2209</td> <td>-0.1227</td>\n",
       "</tr>\n",
       "<tr>\n",
       "  <th>avg_category_quantity</th> <td>0.1851</td>   <td>0.0317</td>   <td>5.8370</td>  <td>0.0000</td> <td>0.1230</td>  <td>0.2473</td> \n",
       "</tr>\n",
       "<tr>\n",
       "  <th>avg_category_amount</th>   <td>0.0858</td>   <td>0.0090</td>   <td>9.5684</td>  <td>0.0000</td> <td>0.0682</td>  <td>0.1034</td> \n",
       "</tr>\n",
       "<tr>\n",
       "  <th>exact_item_bought_1</th>   <td>-0.2352</td>  <td>0.0428</td>   <td>-5.5008</td> <td>0.0000</td> <td>-0.3190</td> <td>-0.1514</td>\n",
       "</tr>\n",
       "</table>"
      ],
      "text/plain": [
       "<class 'statsmodels.iolib.summary2.Summary'>\n",
       "\"\"\"\n",
       "                            Results: Logit\n",
       "======================================================================\n",
       "Model:                Logit             Pseudo R-squared:  0.014      \n",
       "Dependent Variable:   repeater          AIC:               38951.7308 \n",
       "Date:                 2020-12-02 20:12  BIC:               38993.8347 \n",
       "No. Observations:     33550             Log-Likelihood:    -19471.    \n",
       "Df Model:             4                 LL-Null:           -19748.    \n",
       "Df Residuals:         33545             LLR p-value:       8.9372e-119\n",
       "Converged:            1.0000            Scale:             1.0000     \n",
       "No. Iterations:       5.0000                                          \n",
       "----------------------------------------------------------------------\n",
       "                       Coef.  Std.Err.    z     P>|z|   [0.025  0.975]\n",
       "----------------------------------------------------------------------\n",
       "const                 -0.9695   0.0373 -25.9953 0.0000 -1.0426 -0.8964\n",
       "offervalue            -0.1718   0.0251  -6.8574 0.0000 -0.2209 -0.1227\n",
       "avg_category_quantity  0.1851   0.0317   5.8370 0.0000  0.1230  0.2473\n",
       "avg_category_amount    0.0858   0.0090   9.5684 0.0000  0.0682  0.1034\n",
       "exact_item_bought_1   -0.2352   0.0428  -5.5008 0.0000 -0.3190 -0.1514\n",
       "======================================================================\n",
       "\n",
       "\"\"\""
      ]
     },
     "execution_count": 161,
     "metadata": {},
     "output_type": "execute_result"
    }
   ],
   "source": [
    "# refit the logistic model \n",
    "coupon2_fit2 = sm.Logit(y_train2, x_train2).fit()\n",
    "coupon2_fit2.summary2()"
   ]
  },
  {
   "cell_type": "markdown",
   "metadata": {},
   "source": [
    "### -> all the variables have p-values < 0.05\n",
    "### -> BIC has decreased "
   ]
  },
  {
   "cell_type": "markdown",
   "metadata": {},
   "source": [
    "### Create a data frame with the y_test values and the predicted y values"
   ]
  },
  {
   "cell_type": "code",
   "execution_count": 163,
   "metadata": {
    "scrolled": true
   },
   "outputs": [
    {
     "data": {
      "text/html": [
       "<div>\n",
       "<style scoped>\n",
       "    .dataframe tbody tr th:only-of-type {\n",
       "        vertical-align: middle;\n",
       "    }\n",
       "\n",
       "    .dataframe tbody tr th {\n",
       "        vertical-align: top;\n",
       "    }\n",
       "\n",
       "    .dataframe thead th {\n",
       "        text-align: right;\n",
       "    }\n",
       "</style>\n",
       "<table border=\"1\" class=\"dataframe\">\n",
       "  <thead>\n",
       "    <tr style=\"text-align: right;\">\n",
       "      <th></th>\n",
       "      <th>actual</th>\n",
       "      <th>pred_prob</th>\n",
       "    </tr>\n",
       "  </thead>\n",
       "  <tbody>\n",
       "    <tr>\n",
       "      <th>15059</th>\n",
       "      <td>0</td>\n",
       "      <td>0.211972</td>\n",
       "    </tr>\n",
       "    <tr>\n",
       "      <th>31510</th>\n",
       "      <td>1</td>\n",
       "      <td>0.250050</td>\n",
       "    </tr>\n",
       "    <tr>\n",
       "      <th>18900</th>\n",
       "      <td>0</td>\n",
       "      <td>0.269507</td>\n",
       "    </tr>\n",
       "    <tr>\n",
       "      <th>18594</th>\n",
       "      <td>0</td>\n",
       "      <td>0.211972</td>\n",
       "    </tr>\n",
       "    <tr>\n",
       "      <th>14914</th>\n",
       "      <td>0</td>\n",
       "      <td>0.275245</td>\n",
       "    </tr>\n",
       "    <tr>\n",
       "      <th>30976</th>\n",
       "      <td>1</td>\n",
       "      <td>0.226674</td>\n",
       "    </tr>\n",
       "    <tr>\n",
       "      <th>32966</th>\n",
       "      <td>1</td>\n",
       "      <td>0.290711</td>\n",
       "    </tr>\n",
       "    <tr>\n",
       "      <th>44063</th>\n",
       "      <td>1</td>\n",
       "      <td>0.326119</td>\n",
       "    </tr>\n",
       "    <tr>\n",
       "      <th>10449</th>\n",
       "      <td>0</td>\n",
       "      <td>0.211972</td>\n",
       "    </tr>\n",
       "    <tr>\n",
       "      <th>10987</th>\n",
       "      <td>0</td>\n",
       "      <td>0.250050</td>\n",
       "    </tr>\n",
       "  </tbody>\n",
       "</table>\n",
       "</div>"
      ],
      "text/plain": [
       "       actual  pred_prob\n",
       "15059       0   0.211972\n",
       "31510       1   0.250050\n",
       "18900       0   0.269507\n",
       "18594       0   0.211972\n",
       "14914       0   0.275245\n",
       "30976       1   0.226674\n",
       "32966       1   0.290711\n",
       "44063       1   0.326119\n",
       "10449       0   0.211972\n",
       "10987       0   0.250050"
      ]
     },
     "execution_count": 163,
     "metadata": {},
     "output_type": "execute_result"
    }
   ],
   "source": [
    "# actual y_test values & predicted probabilities for y\n",
    "y_pred2 = pd.DataFrame({\"actual\":y_test2, \"pred_prob\":coupon2_fit2.predict(x_test2)})\n",
    "y_pred2.sample(10, random_state = 13)"
   ]
  },
  {
   "cell_type": "markdown",
   "metadata": {},
   "source": [
    "* Add a predicted column by changing the probabilities to 0 or to 1"
   ]
  },
  {
   "cell_type": "code",
   "execution_count": 188,
   "metadata": {
    "scrolled": true
   },
   "outputs": [
    {
     "data": {
      "text/html": [
       "<div>\n",
       "<style scoped>\n",
       "    .dataframe tbody tr th:only-of-type {\n",
       "        vertical-align: middle;\n",
       "    }\n",
       "\n",
       "    .dataframe tbody tr th {\n",
       "        vertical-align: top;\n",
       "    }\n",
       "\n",
       "    .dataframe thead th {\n",
       "        text-align: right;\n",
       "    }\n",
       "</style>\n",
       "<table border=\"1\" class=\"dataframe\">\n",
       "  <thead>\n",
       "    <tr style=\"text-align: right;\">\n",
       "      <th></th>\n",
       "      <th>actual</th>\n",
       "      <th>pred_prob</th>\n",
       "      <th>predicted</th>\n",
       "    </tr>\n",
       "  </thead>\n",
       "  <tbody>\n",
       "    <tr>\n",
       "      <th>15059</th>\n",
       "      <td>0</td>\n",
       "      <td>0.211972</td>\n",
       "      <td>0</td>\n",
       "    </tr>\n",
       "    <tr>\n",
       "      <th>31510</th>\n",
       "      <td>1</td>\n",
       "      <td>0.250050</td>\n",
       "      <td>0</td>\n",
       "    </tr>\n",
       "    <tr>\n",
       "      <th>18900</th>\n",
       "      <td>0</td>\n",
       "      <td>0.269507</td>\n",
       "      <td>0</td>\n",
       "    </tr>\n",
       "    <tr>\n",
       "      <th>18594</th>\n",
       "      <td>0</td>\n",
       "      <td>0.211972</td>\n",
       "      <td>0</td>\n",
       "    </tr>\n",
       "    <tr>\n",
       "      <th>14914</th>\n",
       "      <td>0</td>\n",
       "      <td>0.275245</td>\n",
       "      <td>0</td>\n",
       "    </tr>\n",
       "    <tr>\n",
       "      <th>30976</th>\n",
       "      <td>1</td>\n",
       "      <td>0.226674</td>\n",
       "      <td>0</td>\n",
       "    </tr>\n",
       "    <tr>\n",
       "      <th>32966</th>\n",
       "      <td>1</td>\n",
       "      <td>0.290711</td>\n",
       "      <td>0</td>\n",
       "    </tr>\n",
       "    <tr>\n",
       "      <th>44063</th>\n",
       "      <td>1</td>\n",
       "      <td>0.326119</td>\n",
       "      <td>1</td>\n",
       "    </tr>\n",
       "    <tr>\n",
       "      <th>10449</th>\n",
       "      <td>0</td>\n",
       "      <td>0.211972</td>\n",
       "      <td>0</td>\n",
       "    </tr>\n",
       "    <tr>\n",
       "      <th>10987</th>\n",
       "      <td>0</td>\n",
       "      <td>0.250050</td>\n",
       "      <td>0</td>\n",
       "    </tr>\n",
       "  </tbody>\n",
       "</table>\n",
       "</div>"
      ],
      "text/plain": [
       "       actual  pred_prob  predicted\n",
       "15059       0   0.211972          0\n",
       "31510       1   0.250050          0\n",
       "18900       0   0.269507          0\n",
       "18594       0   0.211972          0\n",
       "14914       0   0.275245          0\n",
       "30976       1   0.226674          0\n",
       "32966       1   0.290711          0\n",
       "44063       1   0.326119          1\n",
       "10449       0   0.211972          0\n",
       "10987       0   0.250050          0"
      ]
     },
     "execution_count": 188,
     "metadata": {},
     "output_type": "execute_result"
    }
   ],
   "source": [
    "# set the criterion probability as 0.3\n",
    "y_pred2['predicted'] = y_pred2[\"pred_prob\"].map(lambda x: 1 if x > 0.3 else 0)\n",
    "y_pred2.sample(10, random_state = 13)"
   ]
  },
  {
   "cell_type": "markdown",
   "metadata": {},
   "source": [
    "### Measuring the model's accuracies"
   ]
  },
  {
   "cell_type": "markdown",
   "metadata": {},
   "source": [
    "#### 1) Confusion Matrix"
   ]
  },
  {
   "cell_type": "code",
   "execution_count": 189,
   "metadata": {
    "scrolled": false
   },
   "outputs": [
    {
     "data": {
      "image/png": "[encoded data removed]",
      "text/plain": [
       "<Figure size 432x288 with 2 Axes>"
      ]
     },
     "metadata": {
      "needs_background": "light"
     },
     "output_type": "display_data"
    }
   ],
   "source": [
    "draw_cm(y_pred2[\"actual\"], y_pred2[\"predicted\"])"
   ]
  },
  {
   "cell_type": "markdown",
   "metadata": {},
   "source": [
    "#### 2) Classification Report"
   ]
  },
  {
   "cell_type": "code",
   "execution_count": 190,
   "metadata": {},
   "outputs": [
    {
     "name": "stdout",
     "output_type": "stream",
     "text": [
      "              precision    recall  f1-score   support\n",
      "\n",
      "           0       0.77      0.78      0.77     10443\n",
      "           1       0.39      0.37      0.38      3936\n",
      "\n",
      "    accuracy                           0.67     14379\n",
      "   macro avg       0.58      0.58      0.58     14379\n",
      "weighted avg       0.66      0.67      0.67     14379\n",
      "\n"
     ]
    }
   ],
   "source": [
    "print(metrics.classification_report(y_pred2.actual,y_pred2.predicted))"
   ]
  },
  {
   "cell_type": "markdown",
   "metadata": {},
   "source": [
    "#### Compare the results to the with-market model's results"
   ]
  },
  {
   "cell_type": "code",
   "execution_count": 192,
   "metadata": {},
   "outputs": [
    {
     "name": "stdout",
     "output_type": "stream",
     "text": [
      "              precision    recall  f1-score   support\n",
      "\n",
      "           0       0.78      0.74      0.76     10443\n",
      "           1       0.39      0.44      0.41      3936\n",
      "\n",
      "    accuracy                           0.66     14379\n",
      "   macro avg       0.58      0.59      0.59     14379\n",
      "weighted avg       0.67      0.66      0.67     14379\n",
      "\n"
     ]
    }
   ],
   "source": [
    "print(metrics.classification_report( y_pred.actual,y_pred.predicted))"
   ]
  },
  {
   "cell_type": "markdown",
   "metadata": {},
   "source": [
    "### -> There is no considerable differences between the two results \n",
    "### -> So, I'll take the \"without-market model\" because theh smaller number of the independent variables can make it easier to be treated and analyzed  "
   ]
  }
 ],
 "metadata": {
  "kernelspec": {
   "display_name": "Python 3",
   "language": "python",
   "name": "python3"
  },
  "language_info": {
   "codemirror_mode": {
    "name": "ipython",
    "version": 3
   },
   "file_extension": ".py",
   "mimetype": "text/x-python",
   "name": "python",
   "nbconvert_exporter": "python",
   "pygments_lexer": "ipython3",
   "version": "3.8.3"
  }
 },
 "nbformat": 4,
 "nbformat_minor": 4
}
