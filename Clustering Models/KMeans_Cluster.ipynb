{
 "cells": [
  {
   "cell_type": "markdown",
   "metadata": {},
   "source": [
    "# KMeans Cluster"
   ]
  },
  {
   "cell_type": "code",
   "execution_count": 1,
   "metadata": {},
   "outputs": [],
   "source": [
    "import pandas as pd\n",
    "import numpy as np\n",
    "import seaborn as sns\n",
    "import matplotlib.pyplot as plt\n",
    "from sklearn.preprocessing import StandardScaler\n",
    "from sklearn.cluster import KMeans"
   ]
  },
  {
   "cell_type": "markdown",
   "metadata": {},
   "source": [
    "## Data Exploration"
   ]
  },
  {
   "cell_type": "code",
   "execution_count": 2,
   "metadata": {},
   "outputs": [
    {
     "name": "stdout",
     "output_type": "stream",
     "text": [
      "<class 'pandas.core.frame.DataFrame'>\n",
      "RangeIndex: 43 entries, 0 to 42\n",
      "Data columns (total 9 columns):\n",
      " #   Column  Non-Null Count  Dtype  \n",
      "---  ------  --------------  -----  \n",
      " 0   Player  43 non-null     int64  \n",
      " 1   Comp    43 non-null     int64  \n",
      " 2   Att     43 non-null     int64  \n",
      " 3   Pct     43 non-null     float64\n",
      " 4   Yds     43 non-null     int64  \n",
      " 5   Avg     43 non-null     float64\n",
      " 6   Yds/G   43 non-null     float64\n",
      " 7   TD      43 non-null     int64  \n",
      " 8   Int     43 non-null     int64  \n",
      "dtypes: float64(3), int64(6)\n",
      "memory usage: 3.1 KB\n"
     ]
    }
   ],
   "source": [
    "# load the given dataset & check the data types \n",
    "players = pd.read_excel(\"Football_Players.xlsx\")\n",
    "players.info()"
   ]
  },
  {
   "cell_type": "code",
   "execution_count": 7,
   "metadata": {},
   "outputs": [
    {
     "data": {
      "text/html": [
       "<div>\n",
       "<style scoped>\n",
       "    .dataframe tbody tr th:only-of-type {\n",
       "        vertical-align: middle;\n",
       "    }\n",
       "\n",
       "    .dataframe tbody tr th {\n",
       "        vertical-align: top;\n",
       "    }\n",
       "\n",
       "    .dataframe thead th {\n",
       "        text-align: right;\n",
       "    }\n",
       "</style>\n",
       "<table border=\"1\" class=\"dataframe\">\n",
       "  <thead>\n",
       "    <tr style=\"text-align: right;\">\n",
       "      <th></th>\n",
       "      <th>Player</th>\n",
       "      <th>Comp</th>\n",
       "      <th>Att</th>\n",
       "      <th>Pct</th>\n",
       "      <th>Yds</th>\n",
       "      <th>Avg</th>\n",
       "      <th>Yds/G</th>\n",
       "      <th>TD</th>\n",
       "      <th>Int</th>\n",
       "    </tr>\n",
       "  </thead>\n",
       "  <tbody>\n",
       "    <tr>\n",
       "      <th>0</th>\n",
       "      <td>1</td>\n",
       "      <td>107</td>\n",
       "      <td>166</td>\n",
       "      <td>45.3</td>\n",
       "      <td>1172</td>\n",
       "      <td>7.1</td>\n",
       "      <td>167.5</td>\n",
       "      <td>12</td>\n",
       "      <td>4</td>\n",
       "    </tr>\n",
       "    <tr>\n",
       "      <th>1</th>\n",
       "      <td>2</td>\n",
       "      <td>238</td>\n",
       "      <td>353</td>\n",
       "      <td>47.3</td>\n",
       "      <td>2829</td>\n",
       "      <td>8.0</td>\n",
       "      <td>188.7</td>\n",
       "      <td>20</td>\n",
       "      <td>4</td>\n",
       "    </tr>\n",
       "    <tr>\n",
       "      <th>2</th>\n",
       "      <td>3</td>\n",
       "      <td>207</td>\n",
       "      <td>347</td>\n",
       "      <td>41.9</td>\n",
       "      <td>2324</td>\n",
       "      <td>6.7</td>\n",
       "      <td>145.3</td>\n",
       "      <td>20</td>\n",
       "      <td>9</td>\n",
       "    </tr>\n",
       "    <tr>\n",
       "      <th>3</th>\n",
       "      <td>4</td>\n",
       "      <td>252</td>\n",
       "      <td>392</td>\n",
       "      <td>44.9</td>\n",
       "      <td>2975</td>\n",
       "      <td>7.6</td>\n",
       "      <td>198.4</td>\n",
       "      <td>22</td>\n",
       "      <td>11</td>\n",
       "    </tr>\n",
       "    <tr>\n",
       "      <th>4</th>\n",
       "      <td>5</td>\n",
       "      <td>66</td>\n",
       "      <td>119</td>\n",
       "      <td>38.9</td>\n",
       "      <td>760</td>\n",
       "      <td>6.4</td>\n",
       "      <td>152.0</td>\n",
       "      <td>4</td>\n",
       "      <td>4</td>\n",
       "    </tr>\n",
       "  </tbody>\n",
       "</table>\n",
       "</div>"
      ],
      "text/plain": [
       "   Player  Comp  Att   Pct   Yds  Avg  Yds/G  TD  Int\n",
       "0       1   107  166  45.3  1172  7.1  167.5  12    4\n",
       "1       2   238  353  47.3  2829  8.0  188.7  20    4\n",
       "2       3   207  347  41.9  2324  6.7  145.3  20    9\n",
       "3       4   252  392  44.9  2975  7.6  198.4  22   11\n",
       "4       5    66  119  38.9   760  6.4  152.0   4    4"
      ]
     },
     "execution_count": 7,
     "metadata": {},
     "output_type": "execute_result"
    }
   ],
   "source": [
    "players.head()"
   ]
  },
  {
   "cell_type": "code",
   "execution_count": 4,
   "metadata": {},
   "outputs": [
    {
     "data": {
      "text/html": [
       "<div>\n",
       "<style scoped>\n",
       "    .dataframe tbody tr th:only-of-type {\n",
       "        vertical-align: middle;\n",
       "    }\n",
       "\n",
       "    .dataframe tbody tr th {\n",
       "        vertical-align: top;\n",
       "    }\n",
       "\n",
       "    .dataframe thead th {\n",
       "        text-align: right;\n",
       "    }\n",
       "</style>\n",
       "<table border=\"1\" class=\"dataframe\">\n",
       "  <thead>\n",
       "    <tr style=\"text-align: right;\">\n",
       "      <th></th>\n",
       "      <th>Player</th>\n",
       "      <th>Comp</th>\n",
       "      <th>Att</th>\n",
       "      <th>Pct</th>\n",
       "      <th>Yds</th>\n",
       "      <th>Avg</th>\n",
       "      <th>Yds/G</th>\n",
       "      <th>TD</th>\n",
       "      <th>Int</th>\n",
       "    </tr>\n",
       "  </thead>\n",
       "  <tbody>\n",
       "    <tr>\n",
       "      <th>count</th>\n",
       "      <td>43.000000</td>\n",
       "      <td>43.000000</td>\n",
       "      <td>43.000000</td>\n",
       "      <td>43.000000</td>\n",
       "      <td>43.000000</td>\n",
       "      <td>43.000000</td>\n",
       "      <td>43.000000</td>\n",
       "      <td>43.000000</td>\n",
       "      <td>43.000000</td>\n",
       "    </tr>\n",
       "    <tr>\n",
       "      <th>mean</th>\n",
       "      <td>22.000000</td>\n",
       "      <td>167.255814</td>\n",
       "      <td>268.837209</td>\n",
       "      <td>42.946512</td>\n",
       "      <td>1901.813953</td>\n",
       "      <td>6.932558</td>\n",
       "      <td>154.990698</td>\n",
       "      <td>12.837209</td>\n",
       "      <td>6.883721</td>\n",
       "    </tr>\n",
       "    <tr>\n",
       "      <th>std</th>\n",
       "      <td>12.556539</td>\n",
       "      <td>74.271091</td>\n",
       "      <td>111.945337</td>\n",
       "      <td>3.290632</td>\n",
       "      <td>869.447423</td>\n",
       "      <td>0.867322</td>\n",
       "      <td>30.364757</td>\n",
       "      <td>7.463978</td>\n",
       "      <td>3.403145</td>\n",
       "    </tr>\n",
       "    <tr>\n",
       "      <th>min</th>\n",
       "      <td>1.000000</td>\n",
       "      <td>38.000000</td>\n",
       "      <td>70.000000</td>\n",
       "      <td>34.400000</td>\n",
       "      <td>375.000000</td>\n",
       "      <td>4.900000</td>\n",
       "      <td>53.700000</td>\n",
       "      <td>0.000000</td>\n",
       "      <td>1.000000</td>\n",
       "    </tr>\n",
       "    <tr>\n",
       "      <th>25%</th>\n",
       "      <td>11.500000</td>\n",
       "      <td>87.500000</td>\n",
       "      <td>156.000000</td>\n",
       "      <td>41.350000</td>\n",
       "      <td>1132.000000</td>\n",
       "      <td>6.350000</td>\n",
       "      <td>135.250000</td>\n",
       "      <td>5.000000</td>\n",
       "      <td>4.000000</td>\n",
       "    </tr>\n",
       "    <tr>\n",
       "      <th>50%</th>\n",
       "      <td>22.000000</td>\n",
       "      <td>186.000000</td>\n",
       "      <td>309.000000</td>\n",
       "      <td>43.300000</td>\n",
       "      <td>2168.000000</td>\n",
       "      <td>6.800000</td>\n",
       "      <td>152.000000</td>\n",
       "      <td>14.000000</td>\n",
       "      <td>6.000000</td>\n",
       "    </tr>\n",
       "    <tr>\n",
       "      <th>75%</th>\n",
       "      <td>32.500000</td>\n",
       "      <td>232.000000</td>\n",
       "      <td>363.000000</td>\n",
       "      <td>44.950000</td>\n",
       "      <td>2531.000000</td>\n",
       "      <td>7.600000</td>\n",
       "      <td>178.300000</td>\n",
       "      <td>17.500000</td>\n",
       "      <td>10.000000</td>\n",
       "    </tr>\n",
       "    <tr>\n",
       "      <th>max</th>\n",
       "      <td>43.000000</td>\n",
       "      <td>270.000000</td>\n",
       "      <td>406.000000</td>\n",
       "      <td>50.400000</td>\n",
       "      <td>3203.000000</td>\n",
       "      <td>8.800000</td>\n",
       "      <td>200.300000</td>\n",
       "      <td>27.000000</td>\n",
       "      <td>17.000000</td>\n",
       "    </tr>\n",
       "  </tbody>\n",
       "</table>\n",
       "</div>"
      ],
      "text/plain": [
       "          Player        Comp         Att        Pct          Yds        Avg  \\\n",
       "count  43.000000   43.000000   43.000000  43.000000    43.000000  43.000000   \n",
       "mean   22.000000  167.255814  268.837209  42.946512  1901.813953   6.932558   \n",
       "std    12.556539   74.271091  111.945337   3.290632   869.447423   0.867322   \n",
       "min     1.000000   38.000000   70.000000  34.400000   375.000000   4.900000   \n",
       "25%    11.500000   87.500000  156.000000  41.350000  1132.000000   6.350000   \n",
       "50%    22.000000  186.000000  309.000000  43.300000  2168.000000   6.800000   \n",
       "75%    32.500000  232.000000  363.000000  44.950000  2531.000000   7.600000   \n",
       "max    43.000000  270.000000  406.000000  50.400000  3203.000000   8.800000   \n",
       "\n",
       "            Yds/G         TD        Int  \n",
       "count   43.000000  43.000000  43.000000  \n",
       "mean   154.990698  12.837209   6.883721  \n",
       "std     30.364757   7.463978   3.403145  \n",
       "min     53.700000   0.000000   1.000000  \n",
       "25%    135.250000   5.000000   4.000000  \n",
       "50%    152.000000  14.000000   6.000000  \n",
       "75%    178.300000  17.500000  10.000000  \n",
       "max    200.300000  27.000000  17.000000  "
      ]
     },
     "execution_count": 4,
     "metadata": {},
     "output_type": "execute_result"
    }
   ],
   "source": [
    "# get a glimse of the columns \n",
    "players.describe()"
   ]
  },
  {
   "cell_type": "code",
   "execution_count": 5,
   "metadata": {},
   "outputs": [
    {
     "data": {
      "text/plain": [
       "['Comp', 'Att', 'Pct', 'Yds', 'Avg', 'Yds/G', 'TD', 'Int']"
      ]
     },
     "execution_count": 5,
     "metadata": {},
     "output_type": "execute_result"
    }
   ],
   "source": [
    "# Set a list with the columns used for clustering\n",
    "X_features = list(players.columns)\n",
    "X_features.remove(\"Player\")\n",
    "X_features"
   ]
  },
  {
   "cell_type": "markdown",
   "metadata": {},
   "source": [
    "## Scaling"
   ]
  },
  {
   "cell_type": "code",
   "execution_count": 8,
   "metadata": {},
   "outputs": [],
   "source": [
    "# Standardize the data values \n",
    "scaler = StandardScaler()\n",
    "scaled_players = scaler.fit_transform(players[X_features]) # scale only the columns in the list "
   ]
  },
  {
   "cell_type": "markdown",
   "metadata": {},
   "source": [
    "## Elbow Diagram"
   ]
  },
  {
   "cell_type": "code",
   "execution_count": 14,
   "metadata": {},
   "outputs": [
    {
     "data": {
      "image/png": "[encoded data removed]",
      "text/plain": [
       "<Figure size 432x288 with 1 Axes>"
      ]
     },
     "metadata": {
      "needs_background": "light"
     },
     "output_type": "display_data"
    }
   ],
   "source": [
    "# To decide the number of clusters, create an Elbow Diagram \n",
    "cluster_range = range( 1, 10 )\n",
    "cluster_errors = []\n",
    "for num_clusters in cluster_range:\n",
    "    clusters = KMeans( num_clusters )\n",
    "    clusters.fit(scaled_players)\n",
    "    cluster_errors.append(clusters.inertia_)\n",
    "plt.figure(figsize=(6,4))\n",
    "plt.plot(cluster_range,cluster_errors, marker = \"o\");\n",
    "plt.title(\"Elbow Diagram\");\n",
    "\n",
    "# the slope becomes notably moderate from point 4:\n",
    "# K = 3"
   ]
  },
  {
   "cell_type": "markdown",
   "metadata": {},
   "source": [
    "## Clustering the dataset"
   ]
  },
  {
   "cell_type": "code",
   "execution_count": 15,
   "metadata": {},
   "outputs": [
    {
     "data": {
      "text/html": [
       "<div>\n",
       "<style scoped>\n",
       "    .dataframe tbody tr th:only-of-type {\n",
       "        vertical-align: middle;\n",
       "    }\n",
       "\n",
       "    .dataframe tbody tr th {\n",
       "        vertical-align: top;\n",
       "    }\n",
       "\n",
       "    .dataframe thead th {\n",
       "        text-align: right;\n",
       "    }\n",
       "</style>\n",
       "<table border=\"1\" class=\"dataframe\">\n",
       "  <thead>\n",
       "    <tr style=\"text-align: right;\">\n",
       "      <th></th>\n",
       "      <th>Player</th>\n",
       "      <th>Comp</th>\n",
       "      <th>Att</th>\n",
       "      <th>Pct</th>\n",
       "      <th>Yds</th>\n",
       "      <th>Avg</th>\n",
       "      <th>Yds/G</th>\n",
       "      <th>TD</th>\n",
       "      <th>Int</th>\n",
       "      <th>Clusterid</th>\n",
       "    </tr>\n",
       "  </thead>\n",
       "  <tbody>\n",
       "    <tr>\n",
       "      <th>0</th>\n",
       "      <td>1</td>\n",
       "      <td>107</td>\n",
       "      <td>166</td>\n",
       "      <td>45.3</td>\n",
       "      <td>1172</td>\n",
       "      <td>7.1</td>\n",
       "      <td>167.5</td>\n",
       "      <td>12</td>\n",
       "      <td>4</td>\n",
       "      <td>2</td>\n",
       "    </tr>\n",
       "    <tr>\n",
       "      <th>1</th>\n",
       "      <td>2</td>\n",
       "      <td>238</td>\n",
       "      <td>353</td>\n",
       "      <td>47.3</td>\n",
       "      <td>2829</td>\n",
       "      <td>8.0</td>\n",
       "      <td>188.7</td>\n",
       "      <td>20</td>\n",
       "      <td>4</td>\n",
       "      <td>1</td>\n",
       "    </tr>\n",
       "    <tr>\n",
       "      <th>2</th>\n",
       "      <td>3</td>\n",
       "      <td>207</td>\n",
       "      <td>347</td>\n",
       "      <td>41.9</td>\n",
       "      <td>2324</td>\n",
       "      <td>6.7</td>\n",
       "      <td>145.3</td>\n",
       "      <td>20</td>\n",
       "      <td>9</td>\n",
       "      <td>3</td>\n",
       "    </tr>\n",
       "    <tr>\n",
       "      <th>3</th>\n",
       "      <td>4</td>\n",
       "      <td>252</td>\n",
       "      <td>392</td>\n",
       "      <td>44.9</td>\n",
       "      <td>2975</td>\n",
       "      <td>7.6</td>\n",
       "      <td>198.4</td>\n",
       "      <td>22</td>\n",
       "      <td>11</td>\n",
       "      <td>1</td>\n",
       "    </tr>\n",
       "    <tr>\n",
       "      <th>4</th>\n",
       "      <td>5</td>\n",
       "      <td>66</td>\n",
       "      <td>119</td>\n",
       "      <td>38.9</td>\n",
       "      <td>760</td>\n",
       "      <td>6.4</td>\n",
       "      <td>152.0</td>\n",
       "      <td>4</td>\n",
       "      <td>4</td>\n",
       "      <td>0</td>\n",
       "    </tr>\n",
       "  </tbody>\n",
       "</table>\n",
       "</div>"
      ],
      "text/plain": [
       "   Player  Comp  Att   Pct   Yds  Avg  Yds/G  TD  Int  Clusterid\n",
       "0       1   107  166  45.3  1172  7.1  167.5  12    4          2\n",
       "1       2   238  353  47.3  2829  8.0  188.7  20    4          1\n",
       "2       3   207  347  41.9  2324  6.7  145.3  20    9          3\n",
       "3       4   252  392  44.9  2975  7.6  198.4  22   11          1\n",
       "4       5    66  119  38.9   760  6.4  152.0   4    4          0"
      ]
     },
     "execution_count": 15,
     "metadata": {},
     "output_type": "execute_result"
    }
   ],
   "source": [
    "k = 4  # set the number of clusters\n",
    "clusters = KMeans(k, random_state = 42)\n",
    "clusters.fit(scaled_players)  # fit cluster using the scaled data values\n",
    "players[\"Clusterid\"] = clusters.labels_ # add the column for the drawn cluster id to the data frame\n",
    "players.head(5) "
   ]
  },
  {
   "cell_type": "markdown",
   "metadata": {},
   "source": [
    "### * check the size of each cluster assigned above"
   ]
  },
  {
   "cell_type": "code",
   "execution_count": 20,
   "metadata": {},
   "outputs": [
    {
     "data": {
      "text/plain": [
       "11"
      ]
     },
     "execution_count": 20,
     "metadata": {},
     "output_type": "execute_result"
    }
   ],
   "source": [
    "cluster_0 = players[players[\"Clusterid\"] == 0]\n",
    "len(cluster_0)"
   ]
  },
  {
   "cell_type": "code",
   "execution_count": 21,
   "metadata": {},
   "outputs": [
    {
     "data": {
      "text/plain": [
       "14"
      ]
     },
     "execution_count": 21,
     "metadata": {},
     "output_type": "execute_result"
    }
   ],
   "source": [
    "cluster_1 = players[players[\"Clusterid\"] == 1]\n",
    "len(cluster_1)"
   ]
  },
  {
   "cell_type": "code",
   "execution_count": 22,
   "metadata": {},
   "outputs": [
    {
     "data": {
      "text/plain": [
       "4"
      ]
     },
     "execution_count": 22,
     "metadata": {},
     "output_type": "execute_result"
    }
   ],
   "source": [
    "cluster_2 = players[players[\"Clusterid\"] == 2]\n",
    "len(cluster_2)"
   ]
  },
  {
   "cell_type": "code",
   "execution_count": 24,
   "metadata": {},
   "outputs": [
    {
     "data": {
      "text/plain": [
       "14"
      ]
     },
     "execution_count": 24,
     "metadata": {},
     "output_type": "execute_result"
    }
   ],
   "source": [
    "cluster_3 = players[players[\"Clusterid\"] == 3]\n",
    "len(cluster_3)"
   ]
  },
  {
   "cell_type": "markdown",
   "metadata": {},
   "source": [
    "### ->  Clusterid = 1 & 3 are the largest size of cluster, which is 14"
   ]
  },
  {
   "cell_type": "markdown",
   "metadata": {},
   "source": [
    "## Get the final cluster centers (Centroids)"
   ]
  },
  {
   "cell_type": "code",
   "execution_count": 26,
   "metadata": {},
   "outputs": [
    {
     "data": {
      "text/plain": [
       "array([[ 0.89372194,  0.81172182,  0.77858167,  1.01053303,  0.92031123,\n",
       "         0.94833989,  1.04846932,  0.07704727],\n",
       "       [-1.26252669, -1.25339451, -0.92395812, -1.27575767, -0.97127814,\n",
       "        -1.02880509, -1.22058703, -0.88217476],\n",
       "       [-0.94010306, -1.03345402,  0.53917917, -0.80598348,  1.15780153,\n",
       "         0.81005082, -0.4185095 , -0.63440523],\n",
       "       [ 0.49220196,  0.60080344, -0.15148944,  0.33735103, -0.45078659,\n",
       "        -0.32086928,  0.12634707,  0.92654279]])"
      ]
     },
     "execution_count": 26,
     "metadata": {},
     "output_type": "execute_result"
    }
   ],
   "source": [
    "# There are 4 points (k = 4)\n",
    "clusters.cluster_centers_"
   ]
  },
  {
   "cell_type": "markdown",
   "metadata": {},
   "source": [
    "### * the cluster center corresponding to the largest size of cluster (id = 1 & 3)"
   ]
  },
  {
   "cell_type": "code",
   "execution_count": 28,
   "metadata": {},
   "outputs": [
    {
     "data": {
      "text/plain": [
       "array([-1.26252669, -1.25339451, -0.92395812, -1.27575767, -0.97127814,\n",
       "       -1.02880509, -1.22058703, -0.88217476])"
      ]
     },
     "execution_count": 28,
     "metadata": {},
     "output_type": "execute_result"
    }
   ],
   "source": [
    "clusters.cluster_centers_[1]"
   ]
  },
  {
   "cell_type": "code",
   "execution_count": 29,
   "metadata": {},
   "outputs": [
    {
     "data": {
      "text/plain": [
       "array([ 0.49220196,  0.60080344, -0.15148944,  0.33735103, -0.45078659,\n",
       "       -0.32086928,  0.12634707,  0.92654279])"
      ]
     },
     "execution_count": 29,
     "metadata": {},
     "output_type": "execute_result"
    }
   ],
   "source": [
    "clusters.cluster_centers_[3]"
   ]
  }
 ],
 "metadata": {
  "kernelspec": {
   "display_name": "Python 3",
   "language": "python",
   "name": "python3"
  },
  "language_info": {
   "codemirror_mode": {
    "name": "ipython",
    "version": 3
   },
   "file_extension": ".py",
   "mimetype": "text/x-python",
   "name": "python",
   "nbconvert_exporter": "python",
   "pygments_lexer": "ipython3",
   "version": "3.7.6"
  }
 },
 "nbformat": 4,
 "nbformat_minor": 4
}
